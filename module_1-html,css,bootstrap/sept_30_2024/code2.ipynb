{
 "cells": [
  {
   "cell_type": "markdown",
   "metadata": {},
   "source": [
    "# bootstrap "
   ]
  },
  {
   "cell_type": "code",
   "execution_count": null,
   "metadata": {
    "vscode": {
     "languageId": "plaintext"
    }
   },
   "outputs": [],
   "source": [
    "https://getbootstrap.com/docs/5.3/getting-started/introduction/"
   ]
  },
  {
   "cell_type": "code",
   "execution_count": null,
   "metadata": {
    "vscode": {
     "languageId": "plaintext"
    }
   },
   "outputs": [],
   "source": [
    "paste the boostrap template"
   ]
  },
  {
   "cell_type": "code",
   "execution_count": null,
   "metadata": {
    "vscode": {
     "languageId": "plaintext"
    }
   },
   "outputs": [],
   "source": [
    "#check here : already we ahve prdefined buttons:\n",
    "\n",
    "https://getbootstrap.com/docs/5.3/components/buttons/"
   ]
  },
  {
   "cell_type": "code",
   "execution_count": null,
   "metadata": {
    "vscode": {
     "languageId": "plaintext"
    }
   },
   "outputs": [],
   "source": [
    "<!doctype html>\n",
    "<html lang=\"en\">\n",
    "  <head>\n",
    "    <meta charset=\"utf-8\">\n",
    "    <meta name=\"viewport\" content=\"width=device-width, initial-scale=1\">\n",
    "    <title>Bootstrap demo</title>\n",
    "    <link href=\"https://cdn.jsdelivr.net/npm/bootstrap@5.3.3/dist/css/bootstrap.min.css\" rel=\"stylesheet\" integrity=\"sha384-QWTKZyjpPEjISv5WaRU9OFeRpok6YctnYmDr5pNlyT2bRjXh0JMhjY6hW+ALEwIH\" crossorigin=\"anonymous\">\n",
    "  </head>\n",
    "  <body>\n",
    "    <h1>Hello, world!</h1>\n",
    "    <script src=\"https://cdn.jsdelivr.net/npm/bootstrap@5.3.3/dist/js/bootstrap.bundle.min.js\" integrity=\"sha384-YvpcrYf0tY3lHB60NNkmXc5s9fDVZLESaAA55NDzOxhy9GkcIdslK1eN7N6jIeHz\" crossorigin=\"anonymous\"></script>\n",
    "  </body>\n",
    "</html>"
   ]
  },
  {
   "cell_type": "code",
   "execution_count": null,
   "metadata": {
    "vscode": {
     "languageId": "html"
    }
   },
   "outputs": [],
   "source": [
    "#here boottrap :\n",
    "\n",
    "there will be already written predefined styles , we can sue giving by class name :\n",
    "\n",
    "<!doctype html>\n",
    "<html lang=\"en\">\n",
    "\n",
    "  <head>\n",
    "    <meta charset=\"utf-8\">\n",
    "    <meta name=\"viewport\" content=\"width=device-width, initial-scale=1\">\n",
    "    <title>Bootstrap demo</title>\n",
    "    <link href=\"https://cdn.jsdelivr.net/npm/bootstrap@5.3.3/dist/css/bootstrap.min.css\"\n",
    "     rel=\"stylesheet\"\n",
    "      integrity=\"sha384-QWTKZyjpPEjISv5WaRU9OFeRpok6YctnYmDr5pNlyT2bRjXh0JMhjY6hW+ALEwIH\"\n",
    "       crossorigin=\"anonymous\">\n",
    "  </head>\n",
    "\n",
    "  <body>\n",
    "    <h1>Hello, world!</h1>\n",
    "    <button class=\"btn btn-success\"> Click me </button>   /* here btn btn-primary */\n",
    "    <script src=\"https://cdn.jsdelivr.net/npm/bootstrap@5.3.3/dist/js/bootstrap.bundle.min.js\" integrity=\"sha384-YvpcrYf0tY3lHB60NNkmXc5s9fDVZLESaAA55NDzOxhy9GkcIdslK1eN7N6jIeHz\" crossorigin=\"anonymous\"></script>\n",
    "  </body>\n",
    "</html>"
   ]
  },
  {
   "cell_type": "code",
   "execution_count": null,
   "metadata": {
    "vscode": {
     "languageId": "html"
    }
   },
   "outputs": [],
   "source": [
    "///"
   ]
  },
  {
   "cell_type": "code",
   "execution_count": null,
   "metadata": {
    "vscode": {
     "languageId": "html"
    }
   },
   "outputs": [],
   "source": [
    "https://getbootstrap.com/docs/5.3/components/navbar/\n",
    "\n",
    "\n",
    "<nav class=\"navbar navbar-expand-lg bg-body-tertiary\">\n",
    "    <div class=\"container-fluid\">\n",
    "      <a class=\"navbar-brand\" href=\"#\">Navbar</a>\n",
    "      <button class=\"navbar-toggler\" type=\"button\" data-bs-toggle=\"collapse\" data-bs-target=\"#navbarSupportedContent\" aria-controls=\"navbarSupportedContent\" aria-expanded=\"false\" aria-label=\"Toggle navigation\">\n",
    "        <span class=\"navbar-toggler-icon\"></span>\n",
    "      </button>\n",
    "      <div class=\"collapse navbar-collapse\" id=\"navbarSupportedContent\">\n",
    "        <ul class=\"navbar-nav me-auto mb-2 mb-lg-0\">\n",
    "          <li class=\"nav-item\">\n",
    "            <a class=\"nav-link active\" aria-current=\"page\" href=\"#\">Home</a>\n",
    "          </li>\n",
    "          <li class=\"nav-item\">\n",
    "            <a class=\"nav-link\" href=\"#\">Link</a>\n",
    "          </li>\n",
    "          <li class=\"nav-item dropdown\">\n",
    "            <a class=\"nav-link dropdown-toggle\" href=\"#\" role=\"button\" data-bs-toggle=\"dropdown\" aria-expanded=\"false\">\n",
    "              Dropdown\n",
    "            </a>\n",
    "            <ul class=\"dropdown-menu\">\n",
    "              <li><a class=\"dropdown-item\" href=\"#\">Action</a></li>\n",
    "              <li><a class=\"dropdown-item\" href=\"#\">Another action</a></li>\n",
    "              <li><hr class=\"dropdown-divider\"></li>\n",
    "              <li><a class=\"dropdown-item\" href=\"#\">Something else here</a></li>\n",
    "            </ul>\n",
    "          </li>\n",
    "          <li class=\"nav-item\">\n",
    "            <a class=\"nav-link disabled\" aria-disabled=\"true\">Disabled</a>\n",
    "          </li>\n",
    "        </ul>\n",
    "        <form class=\"d-flex\" role=\"search\">\n",
    "          <input class=\"form-control me-2\" type=\"search\" placeholder=\"Search\" aria-label=\"Search\">\n",
    "          <button class=\"btn btn-outline-success\" type=\"submit\">Search</button>\n",
    "        </form>\n",
    "      </div>\n",
    "    </div>\n",
    "  </nav>"
   ]
  },
  {
   "cell_type": "code",
   "execution_count": null,
   "metadata": {
    "vscode": {
     "languageId": "html"
    }
   },
   "outputs": [],
   "source": [
    "https://icons.getbootstrap.com/icons/\n",
    "\n",
    "https://icons.getbootstrap.com/icons/cart/\n",
    "\n"
   ]
  },
  {
   "cell_type": "code",
   "execution_count": null,
   "metadata": {
    "vscode": {
     "languageId": "html"
    }
   },
   "outputs": [],
   "source": [
    "<svg xmlns=\"http://www.w3.org/2000/svg\" width=\"16\" height=\"16\" fill=\"currentColor\" class=\"bi bi-cart\" viewBox=\"0 0 16 16\">\n",
    "    <path d=\"M0 1.5A.5.5 0 0 1 .5 1H2a.5.5 0 0 1 .485.379L2.89 3H14.5a.5.5 0 0 1 .491.592l-1.5 8A.5.5 0 0 1 13 12H4a.5.5 0 0 1-.491-.408L2.01 3.607 1.61 2H.5a.5.5 0 0 1-.5-.5M3.102 4l1.313 7h8.17l1.313-7zM5 12a2 2 0 1 0 0 4 2 2 0 0 0 0-4m7 0a2 2 0 1 0 0 4 2 2 0 0 0 0-4m-7 1a1 1 0 1 1 0 2 1 1 0 0 1 0-2m7 0a1 1 0 1 1 0 2 1 1 0 0 1 0-2\"/>\n",
    "  </svg>"
   ]
  }
 ],
 "metadata": {
  "language_info": {
   "name": "python"
  }
 },
 "nbformat": 4,
 "nbformat_minor": 2
}
