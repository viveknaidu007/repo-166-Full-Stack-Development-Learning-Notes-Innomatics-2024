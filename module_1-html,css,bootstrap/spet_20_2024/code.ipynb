{
 "cells": [
  {
   "cell_type": "code",
   "execution_count": null,
   "metadata": {},
   "outputs": [],
   "source": [
    "* lists\n",
    "* table \n",
    "* forms"
   ]
  },
  {
   "cell_type": "code",
   "execution_count": null,
   "metadata": {},
   "outputs": [],
   "source": [
    "<ol> = orderd list\n",
    "<ul> unordered list\n",
    "<hr> = horizontal line\n",
    "<li> = list"
   ]
  },
  {
   "cell_type": "code",
   "execution_count": null,
   "metadata": {},
   "outputs": [],
   "source": [
    "<!DOCTYPE html>\n",
    "<html lang=\"en\">\n",
    "<head>\n",
    "    <meta charset=\"UTF-8\">\n",
    "    <meta name=\"viewport\" content=\"width=device-width, initial-scale=1.0\">\n",
    "    <title>Document</title>\n",
    "</head>\n",
    "<body>\n",
    "    <ul>\n",
    "        <li> first item</li>\n",
    "        <li> second item</li>\n",
    "        <li> third item</li>\n",
    "        <li> four item</li>\n",
    "        <li> five item</li>\n",
    "    </ul>\n",
    "\n",
    "    <hr>\n",
    "\n",
    "    <ol>\n",
    "        <li> first item </li>\n",
    "        <li> second item </li>\n",
    "        <li> third item </li>\n",
    "        <li> four item </li>\n",
    "        <li> five item </li>\n",
    "    </ol>\n",
    "    \n",
    "</body>\n",
    "</html>"
   ]
  },
  {
   "cell_type": "code",
   "execution_count": null,
   "metadata": {},
   "outputs": [],
   "source": [
    "#attributes :\n",
    "\n",
    "    <ol type=\"I\">\n",
    "        <li> first item </li>\n",
    "        <li> second item </li>\n",
    "        <li> third item </li>\n",
    "        <li> four item </li>\n",
    "        <li> five item </li>\n",
    "    </ol>"
   ]
  },
  {
   "cell_type": "code",
   "execution_count": null,
   "metadata": {},
   "outputs": [],
   "source": [
    "    <ol type=\"A\">\n",
    "        <li>\n",
    "            <h4> car </h4>\n",
    "            <ol>\n",
    "                <li> Audi </li>\n",
    "                <li> 30lkh </li>\n",
    "                <li> red </li>\n",
    "                <li> 2026 </li>\n",
    "            </ol>\n",
    "        </li>\n",
    "        <li> vivek </li>\n",
    "        <li> teja </li>\n",
    "    </ol>\n"
   ]
  },
  {
   "cell_type": "code",
   "execution_count": null,
   "metadata": {
    "vscode": {
     "languageId": "html"
    }
   },
   "outputs": [],
   "source": [
    "# table:\n",
    "\n",
    "<table> = table tag\n",
    "<tr>  = table row\n",
    "<th> table headning\n",
    "<td> = table data\n",
    "<hr> = is for heading row\n",
    "\n",
    "\n",
    "// ex 1:\n",
    "\n",
    "    <table>\n",
    "        <tr>\n",
    "            <th> Name </th>\n",
    "            <th> Age </th>\n",
    "            <th> Gender </th>\n",
    "            <th> Class </th>\n",
    "        </tr>\n",
    "\n",
    "        <tr>\n",
    "            <td> student 1</td>\n",
    "            <td> 10 </td>\n",
    "            <td> male </td>\n",
    "            <td> 4th</td>\n",
    "        </tr>\n",
    "\n",
    "        <tr>\n",
    "            <td> student 2</td>\n",
    "            <td> 20 </td>\n",
    "            <td> male </td>\n",
    "            <td> 5th</td>\n",
    "        </tr>\n",
    "\n",
    "        <tr>\n",
    "            <td> student 3</td>\n",
    "            <td> 30 </td>\n",
    "            <td> male </td>\n",
    "            <td> 6th </td>\n",
    "        </tr>\n",
    "\n",
    "\n",
    "# ex 2 :\n",
    "// add this below for colourling border\n",
    "\n",
    "    <style>\n",
    "        table{\n",
    "            border:1px solid blue;\n",
    "        }\n",
    "        th{\n",
    "            border:1px solid blue;\n",
    "        }\n",
    "        td{\n",
    "            border:1px solid blue;\n",
    "        }\n",
    "\n",
    "    </style>\n",
    "\n",
    "or \n",
    "\n",
    "    <style>\n",
    "        table,th,td{\n",
    "            border:1px solid blue;\n",
    "        }\n",
    "    </style>\n",
    "\n",
    "\n",
    "\n",
    "#ex3:\n",
    "\n",
    "    <table>\n",
    "        <tr>\n",
    "            <th colspan=\"2\"> full name </th>  <!-- here 2 mens , it will ocupy for upto 2 columns , and if we have 3 , it will occupy till 3 columns anme -->\n",
    "        </tr>\n",
    "        <tr>\n",
    "            <th> FirstName </th>\n",
    "            <th> Lastname </th>\n",
    "            <th> Gender </th>\n",
    "            <th> marks </th>\n",
    "        </tr> \n",
    "        <tr>\n",
    "            <td>Vivek</td>\n",
    "            <td>teja</td>\n",
    "            <td>male</td>\n",
    "            <td>80%</td>\n",
    "        </tr>\n",
    "        <tr>\n",
    "            <td> hero </td>\n",
    "            <td> noob </td>\n",
    "            <td> male </td>\n",
    "            <td> 90 </td>\n",
    "        </tr>\n",
    "\n",
    "    </table>"
   ]
  },
  {
   "cell_type": "code",
   "execution_count": null,
   "metadata": {
    "vscode": {
     "languageId": "html"
    }
   },
   "outputs": [],
   "source": []
  },
  {
   "cell_type": "code",
   "execution_count": null,
   "metadata": {},
   "outputs": [],
   "source": [
    "# now lets create this table in html :"
   ]
  },
  {
   "cell_type": "markdown",
   "metadata": {},
   "source": [
    "![p](images\\img1.png)"
   ]
  },
  {
   "cell_type": "code",
   "execution_count": null,
   "metadata": {
    "vscode": {
     "languageId": "html"
    }
   },
   "outputs": [],
   "source": [
    "<table>\n",
    "    <tr>\n",
    "        <th colspan=\"2\"> languages and frameworks </th>\n",
    "    </tr>\n",
    "    <tr>\n",
    "        <td>python</td>\n",
    "        <td>Django</td>\n",
    "    </tr>\n",
    "    <tr>\n",
    "        <td rowspan=\"2\">JavaScript</td>\n",
    "        <td>Reactjs</td>\n",
    "    </tr>\n",
    "    <tr>\n",
    "        <td>Vue.Js</td>\n",
    "    </tr>\n",
    "    <tr>\n",
    "        <td>Ruby</td>\n",
    "        <td>Ruby on Rails</td>\n",
    "    </tr>\n",
    "</table>\n"
   ]
  },
  {
   "cell_type": "code",
   "execution_count": null,
   "metadata": {},
   "outputs": [],
   "source": [
    "# inputs:"
   ]
  },
  {
   "cell_type": "code",
   "execution_count": null,
   "metadata": {
    "vscode": {
     "languageId": "html"
    }
   },
   "outputs": [],
   "source": [
    "<form action=\"\" method=\"\">\n",
    "\n",
    "    <label for=\"name\"> UserName: </label>\n",
    "    <input type=\"text\" placeholder=\"Enter ur name here....\"/>\n",
    "    <br>\n",
    "    <br>\n",
    "    <input type=\"email\" placeholder=\"enter ur email here...\"/>\n",
    "    <br>\n",
    "    <input type=\"password\" placeholder=\"enter ur password\"/>\n",
    "    <br> <br> <hr>\n",
    "    <input type=\"radio\" name=\"Gender\" id=\"\">\n",
    "    male\n",
    "    <input type=\"radio\" name=\"Gender\" id=\"\">\n",
    "    female\n",
    "    <br>\n",
    "    <hr>\n",
    "    <fieldset>\n",
    "        <legend>Gender</legend>\n",
    "        <input type=\"radio\" name=\"gender\" id=\"\" />\n",
    "        male\n",
    "        <input type=\"radio\" name=\"gender\" id=\"\" />\n",
    "        female\n",
    "    </fieldset>\n",
    "    <hr>\n",
    "    <br>\n",
    "    <input type=\"checkbox\" name=\"\" id=\"\">HTML\n",
    "    <input type=\"checkbox\" name=\"\" id=\"\">CSS\n",
    "    <input type=\"checkbox\" name=\"\" id=\"\">BOOTSTRAP\n",
    "    <br> <br>\n",
    "    <select name=\"\" id=\"\">\n",
    "        <option value=\"\">HYD</option>\n",
    "        <option value=\"\">MI</option>\n",
    "        <option value=\"\">kl</option>\n",
    "        <option value=\"\">mn</option>\n",
    "    </select>\n",
    "    <br>\n",
    "    <button type=\"submit\"> submi t </button>\n",
    "\n",
    "\n",
    "    </form>\n"
   ]
  },
  {
   "cell_type": "code",
   "execution_count": null,
   "metadata": {
    "vscode": {
     "languageId": "html"
    }
   },
   "outputs": [],
   "source": [
    "<a> </a> = anchor tag\n",
    "\n",
    "// here when we press on specific section it will redirect to speific id in webpage\n",
    "\n",
    "<a href=\"#stdInfo\"> Studtinfo </a>\n",
    "<a href=\"#Lang\"> Lang </a>\n",
    "<a href=\"#Regs\"> Registration form </a>\n",
    "<a href=\"#AboutMe\"> About me </a>\n",
    "\n",
    "\n",
    "<h3 id=\"StdInfo\"> Student Information </h3>\n",
    "\n",
    "<h3 id=\"Lang\"> Lang and Framework </h3>\n",
    "\n",
    "<h3 id=\"Regs\">Registration form</h3>\n",
    "\n",
    "<section id=\"AboutMe\">"
   ]
  }
 ],
 "metadata": {
  "language_info": {
   "name": "python"
  }
 },
 "nbformat": 4,
 "nbformat_minor": 2
}
