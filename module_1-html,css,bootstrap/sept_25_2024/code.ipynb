{
 "cells": [
  {
   "cell_type": "markdown",
   "metadata": {},
   "source": [
    "# Display Position And Display Flex Properties In CSS "
   ]
  },
  {
   "cell_type": "code",
   "execution_count": null,
   "metadata": {},
   "outputs": [],
   "source": [
    "dic.box*4 = it will create 4 boxes\n",
    "\n"
   ]
  },
  {
   "cell_type": "code",
   "execution_count": null,
   "metadata": {},
   "outputs": [],
   "source": [
    "// flux :\n",
    "it will be useful "
   ]
  },
  {
   "cell_type": "code",
   "execution_count": null,
   "metadata": {},
   "outputs": [],
   "source": [
    "<!DOCTYPE html>\n",
    "<html lang=\"en\">\n",
    "<head>\n",
    "    <meta charset=\"UTF-8\">\n",
    "    <meta name=\"viewport\" content=\"width=device-width, initial-scale=1.0\">\n",
    "    <title>flex_box</title>\n",
    "\n",
    "    <style>\n",
    "        .box{\n",
    "            width: 100px;\n",
    "            height: 100px;\n",
    "            background-color: aquamarine;\n",
    "            border : 2px solid gray;\n",
    "            margin-bottom: 10px;\n",
    "        }\n",
    "    </style>\n",
    "</head>\n",
    "<body>\n",
    "    <div class=\"box\"></div>\n",
    "    <div class=\"box\"></div>\n",
    "    <div class=\"box\"></div>\n",
    "    <div class=\"box\"></div>\n",
    "</body>\n",
    "</html>"
   ]
  },
  {
   "cell_type": "code",
   "execution_count": null,
   "metadata": {},
   "outputs": [],
   "source": [
    "<div class=\"big-box\">\n",
    "\n",
    "    <div class=\"box\"></div>\n",
    "    <div class=\"box\"></div>\n",
    "    <div class=\"box\"></div>\n",
    "\n",
    "</div>\n",
    "\n",
    "\n",
    "\n",
    "        .big-box{\n",
    "            display: flex;\n",
    "        }\n"
   ]
  },
  {
   "cell_type": "code",
   "execution_count": null,
   "metadata": {},
   "outputs": [],
   "source": [
    "    <div class=\"big-box\">\n",
    "\n",
    "        <div class=\"box\"></div>\n",
    "        <div class=\"box\"></div>\n",
    "        <div class=\"box\"></div>\n",
    "        <div class=\"box\"></div>\n",
    "        <div class=\"box\"></div>\n",
    "        <div class=\"box\"></div>\n",
    "        <div class=\"box\"></div>\n",
    "        <div class=\"box\"></div>\n",
    "        <div class=\"box\"></div>\n",
    "        <div class=\"box\"></div>\n",
    "\n",
    "    </div>\n",
    "\n",
    "\n",
    "        .big-box{\n",
    "            display: flex;\n",
    "            flex-wrap: wrap;\n",
    "        }\n",
    "\n",
    "\n",
    "\n"
   ]
  },
  {
   "cell_type": "code",
   "execution_count": null,
   "metadata": {},
   "outputs": [],
   "source": [
    "// till noe full code :\n",
    "\n",
    "<!DOCTYPE html>\n",
    "<html lang=\"en\">\n",
    "<head>\n",
    "    <meta charset=\"UTF-8\">\n",
    "    <meta name=\"viewport\" content=\"width=device-width, initial-scale=1.0\">\n",
    "    <title>flex_box</title>\n",
    "\n",
    "    <style>\n",
    "        .box{\n",
    "            width: 100px;\n",
    "            height: 100px;\n",
    "            background-color: aquamarine;\n",
    "            border : 2px solid gray;\n",
    "            margin-bottom: 10px;\n",
    "        }\n",
    "        .big-box{\n",
    "            display: flex;\n",
    "            flex-wrap: wrap;\n",
    "        }\n",
    "    </style>\n",
    "</head>\n",
    "<body>\n",
    "    <div class=\"big-box\">\n",
    "\n",
    "        <div class=\"box\"></div>\n",
    "        <div class=\"box\"></div>\n",
    "        <div class=\"box\"></div>\n",
    "        <div class=\"box\"></div>\n",
    "        <div class=\"box\"></div>\n",
    "        <div class=\"box\"></div>\n",
    "        <div class=\"box\"></div>\n",
    "        <div class=\"box\"></div>\n",
    "        <div class=\"box\"></div>\n",
    "        <div class=\"box\"></div>\n",
    "\n",
    "    </div>\n",
    "</body>\n",
    "</html>"
   ]
  },
  {
   "cell_type": "code",
   "execution_count": null,
   "metadata": {},
   "outputs": [],
   "source": [
    "<!DOCTYPE html>\n",
    "<html lang=\"en\">\n",
    "<head>\n",
    "    <meta charset=\"UTF-8\">\n",
    "    <meta name=\"viewport\" content=\"width=device-width, initial-scale=1.0\">\n",
    "    <title>flex_box</title>\n",
    "\n",
    "    <style>\n",
    "        .box{\n",
    "            width: 100px;\n",
    "            height: 100px;\n",
    "            background-color: aquamarine;\n",
    "            border : 2px solid gray;\n",
    "            margin-bottom: 10px;\n",
    "        }\n",
    "        .big-box{\n",
    "            display: flex;\n",
    "            flex-wrap: wrap;\n",
    "        }\n",
    "    </style>\n",
    "</head>\n",
    "<body>\n",
    "    <header>\n",
    "        <nav>\n",
    "            <ul>\n",
    "                <li> HOME </li>\n",
    "                <li> about </li>\n",
    "                <li> services </li>\n",
    "                <li> contact US </li>\n",
    "                <li> login </li>\n",
    "            </ul>\n",
    "        </nav>\n",
    "    </header>\n",
    "</body>\n",
    "</html>"
   ]
  },
  {
   "cell_type": "code",
   "execution_count": null,
   "metadata": {},
   "outputs": [],
   "source": [
    "    <style>\n",
    "        ul{\n",
    "            display: flex;\n",
    "            list-style-type: none;\n",
    "        }\n",
    "        ul li{\n",
    "            margin-right: 30px;\n",
    "        }\n",
    "    </style>"
   ]
  },
  {
   "cell_type": "code",
   "execution_count": null,
   "metadata": {},
   "outputs": [],
   "source": [
    "        ul{\n",
    "            display: flex;\n",
    "            list-style-type: none;\n",
    "            background-color: black;\n",
    "            color: white;\n",
    "            height:60px\n",
    "        }"
   ]
  },
  {
   "cell_type": "code",
   "execution_count": null,
   "metadata": {},
   "outputs": [],
   "source": [
    "*{\n",
    "\n",
    "}\n",
    "\n",
    "\n",
    "global CSS\n",
    "\n"
   ]
  },
  {
   "cell_type": "code",
   "execution_count": null,
   "metadata": {},
   "outputs": [],
   "source": [
    "        *{\n",
    "            margin:0px;\n",
    "            padding:0px\n",
    "        }"
   ]
  },
  {
   "cell_type": "code",
   "execution_count": null,
   "metadata": {},
   "outputs": [],
   "source": [
    "            justify-content: center;\n"
   ]
  },
  {
   "cell_type": "code",
   "execution_count": null,
   "metadata": {},
   "outputs": [],
   "source": [
    "       ul{\n",
    "            display: flex;\n",
    "            list-style-type: none;\n",
    "            background-color: black;\n",
    "            color: white;\n",
    "            height:60px;\n",
    "            justify-content: center;\n",
    "\n",
    "        }"
   ]
  },
  {
   "cell_type": "code",
   "execution_count": null,
   "metadata": {},
   "outputs": [],
   "source": [
    "            align-items: center;\n"
   ]
  },
  {
   "cell_type": "code",
   "execution_count": null,
   "metadata": {},
   "outputs": [],
   "source": [
    "        ul{\n",
    "            display: flex;\n",
    "            list-style-type: none;\n",
    "            background-color: black;\n",
    "            color: white;\n",
    "            height:60px;\n",
    "            justify-content: center;\n",
    "            align-items: center;\n",
    "        }\n"
   ]
  },
  {
   "cell_type": "code",
   "execution_count": null,
   "metadata": {},
   "outputs": [],
   "source": [
    "now :"
   ]
  },
  {
   "cell_type": "code",
   "execution_count": null,
   "metadata": {},
   "outputs": [],
   "source": [
    "    <div class=\"product\">\n",
    "        <img src=\"vintage-tv-1116587_1280.jpg\" alt=\"\">\n",
    "        <p> $300 </p>\n",
    "        <h4> TV </h4>\n",
    "        <p> lorem wsndfljaksnkdaskfn dklwasnlkanks dklsank</p>\n",
    "\n",
    "    </div>\n",
    "\n",
    "\n",
    "\n",
    "\n",
    "\n",
    "\n",
    "# style :\n",
    "\n",
    "        .product{\n",
    "            width: 400px;\n",
    "            height : 350px;\n",
    "            border: 2px solid blaxk;\n",
    "            border-radius: 10px;\n",
    "            margin: auto;\n",
    "        }\n",
    "\n",
    "        img{\n",
    "            width: 300px;\n",
    "        }"
   ]
  },
  {
   "cell_type": "code",
   "execution_count": null,
   "metadata": {},
   "outputs": [],
   "source": [
    "//////////////"
   ]
  },
  {
   "cell_type": "code",
   "execution_count": null,
   "metadata": {},
   "outputs": [],
   "source": [
    "    <div class=\"container\">\n",
    "\n",
    "        <div class=\"product\">\n",
    "            <img src=\"vintage-tv-1116587_1280.jpg\" alt=\"\">\n",
    "            <p> $300 </p>\n",
    "            <h4> TV </h4>\n",
    "            <p> lorem wsndfljaksnkdaskfn dklwasnlkanks dklsank</p>\n",
    "\n",
    "        </div>\n",
    "\n",
    "        <div class=\"product\">\n",
    "            <img src=\"vintage-tv-1116587_1280.jpg\" alt=\"\">\n",
    "            <p> $300 </p>\n",
    "            <h4> TV </h4>\n",
    "            <p> lorem wsndfljaksnkdaskfn dklwasnlkanks dklsank</p>\n",
    "\n",
    "        </div>\n",
    "\n",
    "        <div class=\"product\">\n",
    "            <img src=\"vintage-tv-1116587_1280.jpg\" alt=\"\">\n",
    "            <p> $300 </p>\n",
    "            <h4> TV </h4>\n",
    "            <p> lorem wsndfljaksnkdaskfn dklwasnlkanks dklsank</p>\n",
    "\n",
    "        </div>\n",
    "\n",
    "    </div>\n",
    "\n",
    "\n",
    "\n",
    "\n",
    "\n",
    "\n",
    "\n",
    "#style\n",
    "        .container{\n",
    "            display: flex;\n",
    "        }\n",
    "\n"
   ]
  },
  {
   "cell_type": "code",
   "execution_count": null,
   "metadata": {},
   "outputs": [],
   "source": [
    "    <div class=\"sub-nav\">\n",
    "        \n",
    "        <div>\n",
    "            <a href=\"\">HOME</a>\n",
    "            <a href=\"\">ABOUT</a>\n",
    "            <a href=\"\">SERVICES</a>\n",
    "            <a href=\"\">CONTACT</a>\n",
    "        </div>\n",
    "\n",
    "        <div>\n",
    "            <button> LOGIN </button>\n",
    "            <button> SIGNUP </button>\n",
    "        </div>\n",
    "\n",
    "    </div>\n",
    "\n",
    "////////////////////////////\n",
    "\n",
    "        .sub-nav{\n",
    "            display: flex;\n",
    "            justify-content: space-around;\n",
    "\n",
    "        }\n"
   ]
  },
  {
   "cell_type": "code",
   "execution_count": null,
   "metadata": {},
   "outputs": [],
   "source": [
    "z index only works on positions properties"
   ]
  },
  {
   "cell_type": "code",
   "execution_count": null,
   "metadata": {},
   "outputs": [],
   "source": [
    "    <p>The basic rule of thumb with paragraphing is to keep one idea to one paragraph. If you begin to transition into a new idea, it belongs in a new paragraph. There are some simple ways to tell if you are on the same topic or a new one. You can have one idea and several bits of supporting evidence within a single paragraph. You can also have several points in a single paragraph as long as they relate to the overall topic of the paragraph. If the single points start to get long, then perhaps elaborating on each of them and placing them in their own paragraphs is the route to go.</p>\n",
    "\n",
    "\n",
    "\n",
    "\n",
    "// STYLE:\n",
    "        header{\n",
    "            position:sticky;\n",
    "            top: 10px;\n",
    "        }\n",
    "\n",
    "\n",
    "        header{\n",
    "            position:sticky;\n",
    "            top: 0px;\n",
    "\n",
    "        }\n",
    "\n",
    "\n",
    "            header{\n",
    "            position:sticky;\n",
    "            top: 0px;\n",
    "            z-index: -1;\n",
    "\n",
    "        }"
   ]
  },
  {
   "cell_type": "code",
   "execution_count": null,
   "metadata": {},
   "outputs": [],
   "source": [
    "    <div class=\"box chat-with-us\"> Chat With US </div>\n",
    "\n",
    "\n",
    "\n",
    "// style:\n",
    "        .chat-with-us{\n",
    "            position: fixed;\n",
    "            right : 0px;\n",
    "            bottom : 0px\n",
    "        }"
   ]
  }
 ],
 "metadata": {
  "language_info": {
   "name": "python"
  }
 },
 "nbformat": 4,
 "nbformat_minor": 2
}
