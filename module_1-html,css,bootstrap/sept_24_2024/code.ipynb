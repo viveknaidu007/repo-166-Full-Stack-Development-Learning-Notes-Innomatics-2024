{
 "cells": [
  {
   "cell_type": "code",
   "execution_count": null,
   "metadata": {},
   "outputs": [],
   "source": [
    "#  our Agenda:\n",
    "\n",
    "1. Intro to CSS\n",
    "2.Ways to implement CSS\n",
    "3. Box- Model\n",
    "4.Google  fonts\n",
    "5. etc"
   ]
  },
  {
   "cell_type": "markdown",
   "metadata": {},
   "source": [
    "# intro to CSS and Box Model"
   ]
  },
  {
   "cell_type": "code",
   "execution_count": null,
   "metadata": {},
   "outputs": [],
   "source": [
    "# to implement SS in ur html:\n",
    "\n",
    "we have :\n",
    "1. inline CSS\n",
    "2. internal CSS\n",
    "3. external CSS"
   ]
  },
  {
   "cell_type": "code",
   "execution_count": null,
   "metadata": {},
   "outputs": [],
   "source": [
    "1. inline CSS :\n",
    "\n",
    "\n",
    "<!DOCTYPE html>\n",
    "<html lang=\"en\">\n",
    "<head>\n",
    "    <meta charset=\"UTF-8\">\n",
    "    <meta name=\"viewport\" content=\"width=device-width, initial-scale=1.0\">\n",
    "    <title> Intro CSS </title>\n",
    "\n",
    "    <style>\n",
    "        p{\n",
    "            font-size: 100px;\n",
    "            background-color: black;\n",
    "            color:white;\n",
    "        }\n",
    "    </style>\n",
    "    <link rel=\"stylesheet\" href=\"style.css\">\n",
    "    \n",
    "</head>\n",
    "<body>\n",
    "    <h1 style=\"background-color: purple; color: red;\"> Hello world </h1>\n",
    "    <p> this is my first parag </p>\n",
    "    <span> This is a spam tag </span>\n",
    "</body>\n",
    "</html>\n",
    "\n"
   ]
  },
  {
   "cell_type": "code",
   "execution_count": null,
   "metadata": {},
   "outputs": [],
   "source": [
    "2. internal CSS"
   ]
  },
  {
   "cell_type": "code",
   "execution_count": null,
   "metadata": {},
   "outputs": [],
   "source": [
    "3. external CSS:\n",
    "\n",
    "\n",
    "!   "
   ]
  },
  {
   "cell_type": "code",
   "execution_count": null,
   "metadata": {},
   "outputs": [],
   "source": [
    "<!DOCTYPE html>\n",
    "<html lang=\"en\">\n",
    "<head>\n",
    "    <meta charset=\"UTF-8\">\n",
    "    <meta name=\"viewport\" content=\"width=device-width, initial-scale=1.0\">\n",
    "    <title>Document</title>\n",
    "\n",
    "    <style>\n",
    "        button{\n",
    "            background-color: purple;\n",
    "            color: white;\n",
    "        }\n",
    "    </style>    \n",
    "</head>\n",
    "\n",
    "<body>\n",
    "    \n",
    "    <button> Login </button>\n",
    "    <button> SignUp </button>\n",
    "\n",
    "</body>\n",
    "</html>"
   ]
  },
  {
   "cell_type": "code",
   "execution_count": null,
   "metadata": {},
   "outputs": [],
   "source": [
    "if we gave class attribute in tags\n",
    "\n",
    "<button class=\"login\"> login </button>\n",
    "\n",
    "# now if we want to apply style \n",
    "\n",
    ".login{\n",
    "    color : white\n",
    "}\n",
    "\n",
    "# we have to sue \n",
    "we have to use them by ."
   ]
  },
  {
   "cell_type": "markdown",
   "metadata": {},
   "source": [
    "if we gave id=\"hello\" i tags \n",
    "\n",
    "<p id=\"A\"> this is vivek </p>\n",
    "\n",
    "# we can use them by\n",
    "\n",
    "#login{\n",
    "    color : black\n",
    "}"
   ]
  },
  {
   "cell_type": "code",
   "execution_count": null,
   "metadata": {},
   "outputs": [],
   "source": [
    "# box model"
   ]
  },
  {
   "cell_type": "code",
   "execution_count": null,
   "metadata": {},
   "outputs": [],
   "source": [
    "<!DOCTYPE html>\n",
    "<html lang=\"en\">\n",
    "<head>\n",
    "    <meta charset=\"UTF-8\">\n",
    "    <meta name=\"viewport\" content=\"width=device-width, initial-scale=1.0\">\n",
    "    <title>Document</title>\n",
    "\n",
    "    <style>\n",
    "        .login{\n",
    "            background-color: green;\n",
    "            color: white;\n",
    "            border: none;\n",
    "        }\n",
    "        .signup{\n",
    "            background-color: blue;\n",
    "            color: white;\n",
    "        }\n",
    "\n",
    "        #A{\n",
    "            background-color: blueviolet;\n",
    "            color: white;\n",
    "        }\n",
    "\n",
    "    </style>\n",
    "</head>\n",
    "<body>\n",
    "    <button class=\"login\"> Login </button>\n",
    "    <button class=\"login\"> Login </button>\n",
    "    <p id=\"A\"> this is my first para </p>\n",
    "    <p id=\"A\"> this is my second para</p>\n",
    "</body>\n",
    "</html>"
   ]
  },
  {
   "cell_type": "code",
   "execution_count": null,
   "metadata": {},
   "outputs": [],
   "source": [
    "# box model:"
   ]
  },
  {
   "cell_type": "code",
   "execution_count": null,
   "metadata": {},
   "outputs": [],
   "source": [
    "<input type=\"text\" class=\"input-field\">\n",
    "\n",
    "<style>\n",
    "        .input-field{\n",
    "            width: 350px;\n",
    "            padding: 10px;\n",
    "            color:red;\n",
    "        }\n",
    "\n",
    "</style>\n"
   ]
  },
  {
   "cell_type": "code",
   "execution_count": null,
   "metadata": {},
   "outputs": [],
   "source": [
    "    <div class=\"box\"></div>\n",
    "\n",
    "\n",
    "        .box{\n",
    "            width: 100px;\n",
    "            height: 100px;\n",
    "            border: 2px solid black;\n",
    "            background-color: plum;\n",
    "            padding: 10px;\n",
    "            margin: 10px;\n",
    "        }"
   ]
  },
  {
   "cell_type": "code",
   "execution_count": null,
   "metadata": {},
   "outputs": [],
   "source": [
    "    <div class=\"bigbox\"></div>\n",
    "\n",
    "\n",
    "        .bigbox{\n",
    "            border: 2px solid grey;\n",
    "            padding : 10px;\n",
    "            margin: 10px;\n",
    "        }\n"
   ]
  },
  {
   "cell_type": "code",
   "execution_count": null,
   "metadata": {},
   "outputs": [],
   "source": []
  },
  {
   "cell_type": "code",
   "execution_count": null,
   "metadata": {},
   "outputs": [],
   "source": [
    "#webiste for : box generator \n",
    "\n",
    "https://www.cssmatic.com/box-shadow\n",
    "\n",
    "\n",
    "#website for HTML-CSS-JS :\n",
    "https://html-css-js.com/css/generator/box-shadow/\n",
    "\n",
    "\n",
    "# add htese below to ur css : which was generated from website\n",
    "\n",
    "            -webkit-box-shadow: 3px 3px 25px 10px #000000; \n",
    "            box-shadow: 3px 3px 25px 10px #000000;"
   ]
  },
  {
   "cell_type": "code",
   "execution_count": null,
   "metadata": {},
   "outputs": [],
   "source": [
    "        .product{\n",
    "            border: 2px solid gray;\n",
    "            width: 400px;\n",
    "            padding : 30px;\n",
    "            margin : auto;\n",
    "            -webkit-box-shadow: 3px 3px 25px 10px #000000; \n",
    "            box-shadow: 3px 3px 25px 10px #000000;\n",
    "        }\n",
    "\n",
    "\n",
    "    <div class=\"product\">\n",
    "        <img src=\"data:image/jpeg;base64,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\" alt=\"dog's pic\">\n",
    "        <p> this is watch it wil be useful ofr everythoing</p>\n",
    "        <h3> $3000 </h3>\n",
    "        <h6> Best Shoes </h6>\n",
    "        <button> Add to cart </button>\n",
    "        <button> BUY NOW </button>\n",
    "    </div>\n",
    "\n",
    "\n",
    "\n"
   ]
  }
 ],
 "metadata": {
  "language_info": {
   "name": "python"
  }
 },
 "nbformat": 4,
 "nbformat_minor": 2
}
