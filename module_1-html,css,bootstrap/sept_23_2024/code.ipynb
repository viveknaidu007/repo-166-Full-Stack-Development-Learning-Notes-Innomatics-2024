{
 "cells": [
  {
   "cell_type": "code",
   "execution_count": null,
   "metadata": {
    "vscode": {
     "languageId": "html"
    }
   },
   "outputs": [],
   "source": [
    "<body>\n",
    "    <header>\n",
    "        <nav>\n",
    "            <a href=\"\"> ABOUT ME </a>\n",
    "            <a href=\"\"> Education </a>\n",
    "            <a href=\"\"> Exp </a>\n",
    "            <a href=\"\"> Project </a>\n",
    "            <a href=\"\"> Skills </a>\n",
    "            <a href=\"\"> Contact_ME </a>\n",
    "        </nav>\n",
    "    </header>\n",
    "</body>"
   ]
  },
  {
   "cell_type": "code",
   "execution_count": null,
   "metadata": {
    "vscode": {
     "languageId": "html"
    }
   },
   "outputs": [],
   "source": [
    "<style>\n",
    "    *{\n",
    "        margin: 0px;\n",
    "        padding: 0px;\n",
    "    }\n",
    "    nav {\n",
    "        background-color: black;\n",
    "        height: 30px;\n",
    "    }\n",
    "    nav a {\n",
    "        color: white;\n",
    "        list-style: none;\n",
    "        text-decoration: none;\n",
    "        font-size: 20px;\n",
    "        margin-left: 20px;\n",
    "    }\n",
    "</style>"
   ]
  },
  {
   "cell_type": "code",
   "execution_count": null,
   "metadata": {
    "vscode": {
     "languageId": "html"
    }
   },
   "outputs": [],
   "source": [
    "<main>\n",
    "    <section>\n",
    "        <h4>About Me</h4>\n",
    "        <img \n",
    "        src=\"Untitled.jpg\"\n",
    "        alt=\"200px\">\n",
    "        <p> hello this is vivek , hello bro</p>\n",
    "    </section>\n",
    "    \n",
    "    <section>\n",
    "        <h2> Education </h2>\n",
    "        <table>\n",
    "            <tr>\n",
    "                <th> Sno </th>\n",
    "                <th> Education </th>\n",
    "                <th> Group </th>\n",
    "                <th> University </th>\n",
    "                <th> Year </th>\n",
    "            </tr>\n",
    "\n",
    "            <tr>\n",
    "                <td> Student1 </td>\n",
    "                <td> 10 </td>\n",
    "                <td> Male </td>\n",
    "                <td> 4th </td>\n",
    "                <td> 2000 </td>\n",
    "            </tr>\n",
    "\n",
    "            <tr>\n",
    "                <td> Student2 </td>\n",
    "                <td> 20 </td>\n",
    "                <td> male </td>\n",
    "                <td> 5th </td>\n",
    "                <td> 2001 </td>\n",
    "                \n",
    "\n",
    "            </tr>\n",
    "\n",
    "            <tr>\n",
    "                <td> Student3 </td>\n",
    "                <td> 20 </td>\n",
    "                <td> male </td>\n",
    "                <td> 5th </td>\n",
    "                <td> 2002 </td>\n",
    "            </tr>\n",
    "\n",
    "            <tr>\n",
    "                <td> Student4 </td>\n",
    "                <td> 50 </td>\n",
    "                <td> male </td>\n",
    "                <td> 8th </td>\n",
    "                <td> 2003 </td>\n",
    "            </tr>\n",
    "\n",
    "        </table>\n",
    "    </section>\n",
    "</main>"
   ]
  },
  {
   "cell_type": "code",
   "execution_count": null,
   "metadata": {
    "vscode": {
     "languageId": "html"
    }
   },
   "outputs": [],
   "source": [
    "table,th,td {\n",
    "    border: 2px solid black;\n",
    "    border-collapse: collapse;\n",
    "    padding : 10px;\n",
    "}"
   ]
  },
  {
   "cell_type": "code",
   "execution_count": null,
   "metadata": {
    "vscode": {
     "languageId": "html"
    }
   },
   "outputs": [],
   "source": [
    "<section>\n",
    "    <h2>Contact Me</h2>\n",
    "    <form>                   // before <form action=\"sql\" method=\"post\">\n",
    "\n",
    "        <input\n",
    "        type=\"text\"\n",
    "        placeholder=\"enter ur name here\"\n",
    "        name=\"name\"\n",
    "        />\n",
    "        <br />\n",
    "        <br />\n",
    "        <input\n",
    "        type=\"email\"\n",
    "        placeholder=\"enter ur email here..\"\n",
    "        name=\"email\"\n",
    "        />\n",
    "        <br />\n",
    "        <br/>\n",
    "        <input\n",
    "        type=\"password\"\n",
    "        placeholder=\"Enter ur password\"\n",
    "        name=\"password\"\n",
    "        />\n",
    "        <br />\n",
    "        <br />\n",
    "        <fieldset>\n",
    "            <legend> Gender </legend>\n",
    "            <input type=\"radio\" name=\"gender\" id=\"main\"/>\n",
    "            <label for=\"male\"> male: </label>\n",
    "            <input type=\"radio\" name=\"gender\" id=\"\"/>\n",
    "            female\n",
    "        </fieldset>\n",
    "        <br/>\n",
    "        <br />\n",
    "        <input type=\"checkbox\" name=\"html\" id=\"\" /> HTML\n",
    "        <input type=\"checkbox\" name=\"css\" id=\"\" /> CSS\n",
    "        <input type=\"checkbox\" name=\"bootstrap\" id=\"\" /> BOOTSTRAP <br /> <br />\n",
    "        <select name=\"location\" id=\"\">\n",
    "            <option value=\"\"> location </option>\n",
    "            <option value=\"hyd\"> HYD </option>\n",
    "            <option value=\"mi\"> MI </option>\n",
    "            <option value=\"kl\"> KL </option>\n",
    "            <option value=\"jk\"> JK </option>\n",
    "        </select>\n",
    "        <br />\n",
    "        <br />\n",
    "        <button type=\"submit\">submit</button>\n",
    "    </form>\n",
    "</section>\n",
    "</main>"
   ]
  },
  {
   "cell_type": "code",
   "execution_count": null,
   "metadata": {
    "vscode": {
     "languageId": "html"
    }
   },
   "outputs": [],
   "source": [
    "form{\n",
    "    border:2px solid black;\n",
    "    width: 400px;\n",
    "    padding:20px;\n",
    "\n",
    "}"
   ]
  }
 ],
 "metadata": {
  "language_info": {
   "name": "python"
  }
 },
 "nbformat": 4,
 "nbformat_minor": 2
}
