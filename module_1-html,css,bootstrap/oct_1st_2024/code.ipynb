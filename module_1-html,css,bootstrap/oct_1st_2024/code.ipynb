{
 "cells": [
  {
   "cell_type": "code",
   "execution_count": null,
   "metadata": {},
   "outputs": [],
   "source": []
  },
  {
   "cell_type": "markdown",
   "metadata": {},
   "source": [
    "# Components in Bootstrap & LinkedIn Profile building"
   ]
  },
  {
   "cell_type": "code",
   "execution_count": null,
   "metadata": {},
   "outputs": [],
   "source": [
    "https://getbootstrap.com/docs/5.3/getting-started/introduction/"
   ]
  },
  {
   "cell_type": "code",
   "execution_count": null,
   "metadata": {},
   "outputs": [],
   "source": [
    "<!doctype html>\n",
    "<html lang=\"en\">\n",
    "  <head>\n",
    "    <meta charset=\"utf-8\">\n",
    "    <meta name=\"viewport\" content=\"width=device-width, initial-scale=1\">\n",
    "    <title>Bootstrap demo</title>\n",
    "    <link href=\"https://cdn.jsdelivr.net/npm/bootstrap@5.3.3/dist/css/bootstrap.min.css\" rel=\"stylesheet\" integrity=\"sha384-QWTKZyjpPEjISv5WaRU9OFeRpok6YctnYmDr5pNlyT2bRjXh0JMhjY6hW+ALEwIH\" crossorigin=\"anonymous\">\n",
    "  </head>\n",
    "  <body>\n",
    "    <h1>Hello, world!</h1>\n",
    "    <script src=\"https://cdn.jsdelivr.net/npm/bootstrap@5.3.3/dist/js/bootstrap.bundle.min.js\" integrity=\"sha384-YvpcrYf0tY3lHB60NNkmXc5s9fDVZLESaAA55NDzOxhy9GkcIdslK1eN7N6jIeHz\" crossorigin=\"anonymous\"></script>\n",
    "  </body>\n",
    "</html>"
   ]
  },
  {
   "cell_type": "code",
   "execution_count": null,
   "metadata": {},
   "outputs": [],
   "source": [
    "https://getbootstrap.com/docs/5.3/components/accordion/"
   ]
  },
  {
   "cell_type": "code",
   "execution_count": null,
   "metadata": {},
   "outputs": [],
   "source": [
    "<div class=\"accordion\" id=\"accordionExample\">\n",
    "  <div class=\"accordion-item\">\n",
    "    <h2 class=\"accordion-header\">\n",
    "      <button class=\"accordion-button\" type=\"button\" data-bs-toggle=\"collapse\" data-bs-target=\"#collapseOne\" aria-expanded=\"true\" aria-controls=\"collapseOne\">\n",
    "        Accordion Item #1\n",
    "      </button>\n",
    "    </h2>\n",
    "    <div id=\"collapseOne\" class=\"accordion-collapse collapse show\" data-bs-parent=\"#accordionExample\">\n",
    "      <div class=\"accordion-body\">\n",
    "        <strong>This is the first item's accordion body.</strong> It is shown by default, until the collapse plugin adds the appropriate classes that we use to style each element. These classes control the overall appearance, as well as the showing and hiding via CSS transitions. You can modify any of this with custom CSS or overriding our default variables. It's also worth noting that just about any HTML can go within the <code>.accordion-body</code>, though the transition does limit overflow.\n",
    "      </div>\n",
    "    </div>\n",
    "  </div>\n",
    "  <div class=\"accordion-item\">\n",
    "    <h2 class=\"accordion-header\">\n",
    "      <button class=\"accordion-button collapsed\" type=\"button\" data-bs-toggle=\"collapse\" data-bs-target=\"#collapseTwo\" aria-expanded=\"false\" aria-controls=\"collapseTwo\">\n",
    "        Accordion Item #2\n",
    "      </button>\n",
    "    </h2>\n",
    "    <div id=\"collapseTwo\" class=\"accordion-collapse collapse\" data-bs-parent=\"#accordionExample\">\n",
    "      <div class=\"accordion-body\">\n",
    "        <strong>This is the second item's accordion body.</strong> It is hidden by default, until the collapse plugin adds the appropriate classes that we use to style each element. These classes control the overall appearance, as well as the showing and hiding via CSS transitions. You can modify any of this with custom CSS or overriding our default variables. It's also worth noting that just about any HTML can go within the <code>.accordion-body</code>, though the transition does limit overflow.\n",
    "      </div>\n",
    "    </div>\n",
    "  </div>\n",
    "  <div class=\"accordion-item\">\n",
    "    <h2 class=\"accordion-header\">\n",
    "      <button class=\"accordion-button collapsed\" type=\"button\" data-bs-toggle=\"collapse\" data-bs-target=\"#collapseThree\" aria-expanded=\"false\" aria-controls=\"collapseThree\">\n",
    "        Accordion Item #3\n",
    "      </button>\n",
    "    </h2>\n",
    "    <div id=\"collapseThree\" class=\"accordion-collapse collapse\" data-bs-parent=\"#accordionExample\">\n",
    "      <div class=\"accordion-body\">\n",
    "        <strong>This is the third item's accordion body.</strong> It is hidden by default, until the collapse plugin adds the appropriate classes that we use to style each element. These classes control the overall appearance, as well as the showing and hiding via CSS transitions. You can modify any of this with custom CSS or overriding our default variables. It's also worth noting that just about any HTML can go within the <code>.accordion-body</code>, though the transition does limit overflow.\n",
    "      </div>\n",
    "    </div>\n",
    "  </div>\n",
    "</div>"
   ]
  },
  {
   "cell_type": "code",
   "execution_count": null,
   "metadata": {},
   "outputs": [],
   "source": [
    "#alert "
   ]
  },
  {
   "cell_type": "code",
   "execution_count": null,
   "metadata": {},
   "outputs": [],
   "source": [
    "<div class=\"alert alert-primary\" role=\"alert\">\n",
    "  A simple primary alert—check it out!\n",
    "</div>\n",
    "<div class=\"alert alert-secondary\" role=\"alert\">\n",
    "  A simple secondary alert—check it out!\n",
    "</div>\n",
    "<div class=\"alert alert-success\" role=\"alert\">\n",
    "  A simple success alert—check it out!\n",
    "</div>\n",
    "<div class=\"alert alert-danger\" role=\"alert\">\n",
    "  A simple danger alert—check it out!\n",
    "</div>\n",
    "<div class=\"alert alert-warning\" role=\"alert\">\n",
    "  A simple warning alert—check it out!\n",
    "</div>\n",
    "<div class=\"alert alert-info\" role=\"alert\">\n",
    "  A simple info alert—check it out!\n",
    "</div>\n",
    "<div class=\"alert alert-light\" role=\"alert\">\n",
    "  A simple light alert—check it out!\n",
    "</div>\n",
    "<div class=\"alert alert-dark\" role=\"alert\">\n",
    "  A simple dark alert—check it out!\n",
    "</div>"
   ]
  },
  {
   "cell_type": "code",
   "execution_count": null,
   "metadata": {},
   "outputs": [],
   "source": [
    "# https://getbootstrap.com/docs/5.3/components/badge/"
   ]
  },
  {
   "cell_type": "code",
   "execution_count": null,
   "metadata": {},
   "outputs": [],
   "source": []
  },
  {
   "cell_type": "code",
   "execution_count": null,
   "metadata": {},
   "outputs": [],
   "source": [
    "# card :"
   ]
  },
  {
   "cell_type": "code",
   "execution_count": null,
   "metadata": {},
   "outputs": [],
   "source": []
  },
  {
   "cell_type": "code",
   "execution_count": null,
   "metadata": {},
   "outputs": [],
   "source": [
    "#carousel :\n",
    "\n",
    "Bootstrap's carousel component, but the images are missing (the src attribute for the images is set to \"...\" in your code). To display slides properly, you'll need to replace \"...\" with the actual paths or URLs of the images you want to display.\n",
    "\n",
    "\n",
    "<div id=\"carouselExample\" class=\"carousel slide\">\n",
    "  <div class=\"carousel-inner\">\n",
    "    <div class=\"carousel-item active\">\n",
    "      <img src=\"...\" class=\"d-block w-100\" alt=\"...\">\n",
    "    </div>\n",
    "    <div class=\"carousel-item\">\n",
    "      <img src=\"...\" class=\"d-block w-100\" alt=\"...\">\n",
    "    </div>\n",
    "    <div class=\"carousel-item\">\n",
    "      <img src=\"...\" class=\"d-block w-100\" alt=\"...\">\n",
    "    </div>\n",
    "  </div>\n",
    "  <button class=\"carousel-control-prev\" type=\"button\" data-bs-target=\"#carouselExample\" data-bs-slide=\"prev\">\n",
    "    <span class=\"carousel-control-prev-icon\" aria-hidden=\"true\"></span>\n",
    "    <span class=\"visually-hidden\">Previous</span>\n",
    "  </button>\n",
    "  <button class=\"carousel-control-next\" type=\"button\" data-bs-target=\"#carouselExample\" data-bs-slide=\"next\">\n",
    "    <span class=\"carousel-control-next-icon\" aria-hidden=\"true\"></span>\n",
    "    <span class=\"visually-hidden\">Next</span>\n",
    "  </button>\n",
    "</div>"
   ]
  }
 ],
 "metadata": {
  "language_info": {
   "name": "python"
  }
 },
 "nbformat": 4,
 "nbformat_minor": 2
}
