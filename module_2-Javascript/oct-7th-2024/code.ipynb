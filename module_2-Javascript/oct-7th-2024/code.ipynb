{
 "cells": [
  {
   "cell_type": "code",
   "execution_count": null,
   "metadata": {
    "vscode": {
     "languageId": "plaintext"
    }
   },
   "outputs": [],
   "source": []
  },
  {
   "cell_type": "markdown",
   "metadata": {},
   "source": [
    "# JavaScript"
   ]
  },
  {
   "cell_type": "code",
   "execution_count": null,
   "metadata": {
    "vscode": {
     "languageId": "plaintext"
    }
   },
   "outputs": [],
   "source": [
    "Js is an scripting language , and also a programming language  , "
   ]
  },
  {
   "cell_type": "code",
   "execution_count": null,
   "metadata": {
    "vscode": {
     "languageId": "plaintext"
    }
   },
   "outputs": [],
   "source": [
    "# for documentation :\n",
    "\n",
    "https://developer.mozilla.org/en-US/docs/Learn\n",
    "\n"
   ]
  },
  {
   "cell_type": "code",
   "execution_count": null,
   "metadata": {
    "vscode": {
     "languageId": "plaintext"
    }
   },
   "outputs": [],
   "source": [
    "https://developer.mozilla.org/en-US/docs/Learn/JavaScript/First_steps/What_is_JavaScript"
   ]
  },
  {
   "cell_type": "code",
   "execution_count": null,
   "metadata": {
    "vscode": {
     "languageId": "plaintext"
    }
   },
   "outputs": [],
   "source": [
    "JS is an single threaded syncronose programming language "
   ]
  },
  {
   "cell_type": "code",
   "execution_count": null,
   "metadata": {
    "vscode": {
     "languageId": "plaintext"
    }
   },
   "outputs": [],
   "source": [
    "# about instagram : \n",
    "\n",
    "for instagram : more than 70lakhs of code for bulding\n",
    "\n",
    "fro google : morea than 2 croces lines"
   ]
  },
  {
   "cell_type": "code",
   "execution_count": null,
   "metadata": {
    "vscode": {
     "languageId": "plaintext"
    }
   },
   "outputs": [],
   "source": [
    "better to write JS in external file .Js :"
   ]
  },
  {
   "cell_type": "code",
   "execution_count": null,
   "metadata": {
    "vscode": {
     "languageId": "plaintext"
    }
   },
   "outputs": [],
   "source": [
    "<!DOCTYPE html>\n",
    "<html lang=\"en\">\n",
    "<head>\n",
    "    <meta charset=\"UTF-8\">\n",
    "    <meta name=\"viewport\" content=\"width=device-width, initial-scale=1.0\">\n",
    "    <title> Java Script day - 1</title>\n",
    "</head>\n",
    "<body>\n",
    "\n",
    "    <h1> hello </h1>\n",
    "\n",
    "    <p id=\"output\"> </p>\n",
    "\n",
    "    <script src=\"./script.js\">\n",
    "        \n",
    "    </script>\n",
    "\n",
    "</body>\n",
    "</html>\n",
    "\n",
    "//\n",
    "alert(\"javascript Sessions\")\n",
    "\n",
    "//\n",
    "document.getElementById(\"output\")\n",
    "\n",
    "//\n",
    "document.getElementById(\"output\").innerText = \"Javascript Session\";\n",
    "\n",
    "//\n",
    "prompt(\"enter ur name\")"
   ]
  }
 ],
 "metadata": {
  "language_info": {
   "name": "python"
  }
 },
 "nbformat": 4,
 "nbformat_minor": 2
}
