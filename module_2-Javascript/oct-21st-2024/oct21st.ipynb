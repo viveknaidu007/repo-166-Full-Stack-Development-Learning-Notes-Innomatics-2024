{
 "cells": [
  {
   "cell_type": "code",
   "execution_count": null,
   "metadata": {
    "vscode": {
     "languageId": "plaintext"
    }
   },
   "outputs": [],
   "source": [
    "react - router - dom\n",
    "form validation\n",
    "React => SPA components\n",
    "\n",
    "SPA (reload ) (client side)"
   ]
  },
  {
   "cell_type": "code",
   "execution_count": null,
   "metadata": {
    "vscode": {
     "languageId": "plaintext"
    }
   },
   "outputs": [],
   "source": [
    "npm create vite@latest\n",
    "give project name\n",
    "select a framework :  React (it will ask select framework)\n",
    "select a variant :  Javascript\n",
    "\n",
    "cd introduction\n",
    "npm install \n",
    "npm run dev\n"
   ]
  },
  {
   "cell_type": "code",
   "execution_count": null,
   "metadata": {
    "vscode": {
     "languageId": "plaintext"
    }
   },
   "outputs": [],
   "source": [
    "/ App.jsx :\n",
    "\n"
   ]
  },
  {
   "cell_type": "code",
   "execution_count": null,
   "metadata": {
    "vscode": {
     "languageId": "plaintext"
    }
   },
   "outputs": [],
   "source": [
    "in src : create components folder \n",
    "\n",
    "Dashboard.jsx\n",
    "Login.jsx\n",
    "Signup.jsx\n",
    "\n",
    "Type this below : for all file sit give deafult syntax\n",
    "rafce\n",
    "\n",
    "\n",
    "\n",
    "\n"
   ]
  },
  {
   "cell_type": "code",
   "execution_count": null,
   "metadata": {
    "vscode": {
     "languageId": "plaintext"
    }
   },
   "outputs": [],
   "source": [
    "type this in terminal :\n",
    "\n",
    "npm i react-router-dom\n",
    "\n",
    "#it will help us to create page applicayion"
   ]
  },
  {
   "cell_type": "code",
   "execution_count": null,
   "metadata": {
    "vscode": {
     "languageId": "plaintext"
    }
   },
   "outputs": [],
   "source": [
    "In App.jsx :\n",
    "\n",
    "\n",
    "import {\n",
    "  BrowserRouter as Router,\n",
    "  Routes,\n",
    "  Route,\n",
    "  Navigate,\n",
    "} from \"react-router-dom\";\n",
    "import Login from \"./components/Login\";\n",
    "import Signup from \"./components/Signup\";\n",
    "import Dashboard from \"./components/Dashboard\";\n",
    "import { useState } from \"react\";\n",
    "import { useEffect } from \"react\";\n",
    "\n",
    "\n",
    "const App = () => {\n",
    "  const [isLoggedIn, setIsLoggedIn] = useState(false);\n",
    "\n",
    "  useEffect(() => {\n",
    "    const loggedInStatus = localStorage.getItem(\"isLoggedIn\");\n",
    "    if (loggedInStatus === \"true\") {\n",
    "      setIsLoggedIn(true);\n",
    "    }\n",
    "  }, []);\n",
    "\n",
    "  useEffect(() => {\n",
    "    localStorage.setItem(\"isLoggedIn\", isLoggedIn);\n",
    "  }, [isLoggedIn]);\n",
    "\n",
    "  return (\n",
    "    <Router>\n",
    "      <Routes>\n",
    "        <Route path=\"/signup\" element={<Signup />} />\n",
    "        <Route\n",
    "          path=\"/login\"\n",
    "          element={<Login setIsLoggedIn={setIsLoggedIn} />}\n",
    "        />\n",
    "        <Route\n",
    "          path=\"/dashboard\"\n",
    "          element={\n",
    "            isLoggedIn ? (\n",
    "              <Dashboard setIsLoggedIn={setIsLoggedIn} />\n",
    "            ) : (\n",
    "              <Navigate to=\"/login\" />\n",
    "            )\n",
    "          }\n",
    "        />\n",
    "\n",
    "        <Route\n",
    "          path=\"*\"\n",
    "          element={<Navigate to={isLoggedIn ? \"/dashboard\" : \"/login\"} />}\n",
    "        />\n",
    "      </Routes>\n",
    "    </Router>\n",
    "  );\n",
    "};\n",
    "\n",
    "export default App;"
   ]
  },
  {
   "cell_type": "code",
   "execution_count": null,
   "metadata": {
    "vscode": {
     "languageId": "plaintext"
    }
   },
   "outputs": [],
   "source": [
    "Dashboard.jsx :\n",
    "\n",
    "\n",
    "\n",
    "import React from \"react\";\n",
    "import { useNavigate } from \"react-router-dom\";\n",
    "\n",
    "const Dashboard = ({ setIsLoggedIn }) => {\n",
    "  const navigate = useNavigate();\n",
    "  function handleLogout() {\n",
    "    setIsLoggedIn(false);\n",
    "    localStorage.removeItem(\"isLoggedIn\");\n",
    "    navigate(\"/login\");\n",
    "  }\n",
    "  return (\n",
    "    <div className=\"dashboard-container\">\n",
    "      <h2>Welcome to your Dashboard</h2>\n",
    "      <button onClick={handleLogout}>Logout</button>\n",
    "    </div>\n",
    "  );\n",
    "};\n",
    "\n",
    "export default Dashboard;"
   ]
  },
  {
   "cell_type": "code",
   "execution_count": null,
   "metadata": {
    "vscode": {
     "languageId": "plaintext"
    }
   },
   "outputs": [],
   "source": [
    "Login.jsx :\n",
    "\n",
    "\n",
    "\n",
    "import React from \"react\";\n",
    "import { useState } from \"react\";\n",
    "import { useNavigate, NavLink } from \"react-router-dom\";\n",
    "\n",
    "const Login = ({ setIsLoggedIn }) => {\n",
    "  const [email, setEmail] = useState(\"\");\n",
    "  const [password, setPassword] = useState(\"\");\n",
    "  const [errorMessage, setErrorMessage] = useState(\"\");\n",
    "  const navigate = useNavigate();\n",
    "\n",
    "  const handleLogin = (e) => {\n",
    "    e.preventDefault();\n",
    "    setErrorMessage(\"\");\n",
    "\n",
    "    const storedEmail = localStorage.getItem(\"userEmail\");\n",
    "    const storedPassword = localStorage.getItem(\"userPassword\");\n",
    "\n",
    "    if (email === storedEmail && password === storedPassword) {\n",
    "      setIsLoggedIn(true);\n",
    "      navigate(\"/dashboard\");\n",
    "    } else {\n",
    "      setErrorMessage(\"Invalid Email or password\");\n",
    "    }\n",
    "  };\n",
    "\n",
    "  return (\n",
    "    <>\n",
    "      <div className=\"auth-container\">\n",
    "        <h2>Login</h2>\n",
    "        <form onSubmit={handleLogin}>\n",
    "          <input\n",
    "            type=\"email\"\n",
    "            placeholder=\"enter your email\"\n",
    "            value={email}\n",
    "            onChange={(e) => setEmail(e.target.value)}\n",
    "            required\n",
    "          />\n",
    "          <input\n",
    "            type=\"password\"\n",
    "            placeholder=\"enter your password\"\n",
    "            value={password}\n",
    "            onChange={(e) => setPassword(e.target.value)}\n",
    "            required\n",
    "          />\n",
    "          <button type=\"submit\">Login</button>\n",
    "        </form>\n",
    "\n",
    "        {errorMessage && <p className=\"error-message\">{errorMessage}</p>}\n",
    "\n",
    "        <p>\n",
    "          Don't have an account ? <NavLink to=\"/signup\">Signup</NavLink>\n",
    "        </p>\n",
    "      </div>\n",
    "    </>\n",
    "  );\n",
    "};\n",
    "\n",
    "export default Login;"
   ]
  },
  {
   "cell_type": "code",
   "execution_count": null,
   "metadata": {
    "vscode": {
     "languageId": "plaintext"
    }
   },
   "outputs": [],
   "source": [
    "Signup.jsx :\n",
    "\n",
    "\n",
    "\n",
    "import React from \"react\";\n",
    "import { useState } from \"react\";\n",
    "import { useNavigate, NavLink } from \"react-router-dom\";\n",
    "\n",
    "const Signup = () => {\n",
    "  const [email, setEmail] = useState(\"\");\n",
    "  const [password, setPassword] = useState(\"\");\n",
    "  const [errorMessage, setErrorMessage] = useState(\"\");\n",
    "  const navigate = useNavigate();\n",
    "\n",
    "  const handleSignup = (e) => {\n",
    "    e.preventDefault();\n",
    "    setErrorMessage(\"\");\n",
    "\n",
    "    const emailRegex = /^[^\\s@]+@[^\\s@]+\\.[^\\s@]+$/;\n",
    "\n",
    "    if (!emailRegex.test(email)) {\n",
    "      setErrorMessage(\"Invalid Email Format\");\n",
    "      return;\n",
    "    }\n",
    "\n",
    "    if (password.length < 6) {\n",
    "      setErrorMessage(\"Password must be at least 6 characters long\");\n",
    "      return;\n",
    "    }\n",
    "\n",
    "    localStorage.setItem(\"userEmail\", email);\n",
    "    localStorage.setItem(\"userPassword\", password);\n",
    "\n",
    "    alert(\"SignUp Successful! You can login now\");\n",
    "    navigate(\"login\");\n",
    "  };\n",
    "\n",
    "  return (\n",
    "    <>\n",
    "      <div className=\"auth-container\">\n",
    "        <h2>SignUp</h2>\n",
    "        <form onSubmit={handleSignup}>\n",
    "          <input\n",
    "            type=\"email\"\n",
    "            placeholder=\"enter your email\"\n",
    "            value={email}\n",
    "            onChange={(e) => setEmail(e.target.value)}\n",
    "            required\n",
    "          />\n",
    "          <input\n",
    "            type=\"password\"\n",
    "            placeholder=\"enter your password\"\n",
    "            value={password}\n",
    "            onChange={(e) => setPassword(e.target.value)}\n",
    "            required\n",
    "          />\n",
    "          <button type=\"submit\">Sign Up</button>\n",
    "        </form>\n",
    "\n",
    "        {errorMessage && <p className=\"error-message\">{errorMessage}</p>}\n",
    "\n",
    "        <p>\n",
    "          Already have an account && <NavLink to=\"/login\"> Login</NavLink>\n",
    "        </p>\n",
    "      </div>\n",
    "    </>\n",
    "  );\n",
    "};\n",
    "\n",
    "export default Signup;"
   ]
  }
 ],
 "metadata": {
  "language_info": {
   "name": "python"
  }
 },
 "nbformat": 4,
 "nbformat_minor": 2
}
