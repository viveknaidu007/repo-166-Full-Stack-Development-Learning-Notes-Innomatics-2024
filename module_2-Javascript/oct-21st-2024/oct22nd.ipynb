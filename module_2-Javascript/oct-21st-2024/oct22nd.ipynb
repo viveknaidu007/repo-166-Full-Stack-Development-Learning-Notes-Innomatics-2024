{
 "cells": [
  {
   "cell_type": "code",
   "execution_count": null,
   "metadata": {
    "vscode": {
     "languageId": "plaintext"
    }
   },
   "outputs": [],
   "source": [
    "# Todo App with Redux "
   ]
  },
  {
   "cell_type": "code",
   "execution_count": null,
   "metadata": {
    "vscode": {
     "languageId": "plaintext"
    }
   },
   "outputs": [],
   "source": [
    "Redux : State Management library\n",
    "      : Not a part of react\n",
    "      : used for compiler application\n",
    "\n",
    "\n",
    "Major Componeents : Redux Toolkit and React Redux\n",
    "\n",
    "Elements used : store , Nice , usedispatch and use selector\n"
   ]
  },
  {
   "cell_type": "code",
   "execution_count": null,
   "metadata": {
    "vscode": {
     "languageId": "plaintext"
    }
   },
   "outputs": [],
   "source": [
    "Setup of Redux takes , (state management) takes 40 - 45 min\n",
    "then here came = Redux toolkit , 10-25 min to setup\n",
    "\n",
    "Every Organization use Redux"
   ]
  },
  {
   "cell_type": "code",
   "execution_count": null,
   "metadata": {
    "vscode": {
     "languageId": "plaintext"
    }
   },
   "outputs": [],
   "source": [
    "#documentation :\n",
    "\n",
    "https://redux-toolkit.js.org/\n",
    "\n",
    "https://redux-toolkit.js.org/introduction/getting-started"
   ]
  },
  {
   "cell_type": "code",
   "execution_count": null,
   "metadata": {
    "vscode": {
     "languageId": "plaintext"
    }
   },
   "outputs": [],
   "source": [
    "#create react project : using this commands :\n"
   ]
  },
  {
   "cell_type": "code",
   "execution_count": null,
   "metadata": {
    "vscode": {
     "languageId": "plaintext"
    }
   },
   "outputs": [],
   "source": [
    "ctrl + j to open terminal :\n",
    "\n",
    "npm i\n",
    "\n",
    "npm i @reduxjs/toolkit react-redux uuid styled-components\n",
    "\n",
    "\n",
    "\"\"\"\n",
    "  \"dependencies\": {\n",
    "    \"@reduxjs/toolkit\": \"^2.3.0\",\n",
    "    \"react\": \"^18.3.1\",\n",
    "    \"react-dom\": \"^18.3.1\",\n",
    "    \"react-redux\": \"^9.1.2\",\n",
    "    \"react-router-dom\": \"^6.27.0\",\n",
    "    \"styled-components\": \"^6.1.13\",\n",
    "    \"uuid\": \"^10.0.0\"\n",
    "  },\n",
    "\"\"\""
   ]
  },
  {
   "cell_type": "code",
   "execution_count": null,
   "metadata": {
    "vscode": {
     "languageId": "plaintext"
    }
   },
   "outputs": [],
   "source": [
    "# now create folders :\n",
    "\n",
    "src => create components folder\n",
    "create these files:\n",
    "\n",
    "\n",
    "TodoForm.jsx\n",
    "Todoitem.jsx\n",
    "TodoList.jsx\n",
    "\n",
    "src => Redux folder create \n",
    "create these files:\n",
    "\n",
    "\n",
    "store.js\n",
    "todoslice.js\n",
    "\n",
    "src => styles\n",
    "create this\n"
   ]
  },
  {
   "cell_type": "code",
   "execution_count": null,
   "metadata": {
    "vscode": {
     "languageId": "plaintext"
    }
   },
   "outputs": [],
   "source": [
    "# Now :\n",
    "\n",
    "https://redux-toolkit.js.org/api/configureStore\n",
    "\n",
    "\n"
   ]
  },
  {
   "cell_type": "code",
   "execution_count": null,
   "metadata": {
    "vscode": {
     "languageId": "plaintext"
    }
   },
   "outputs": [],
   "source": [
    "# Now :\n",
    "\n",
    "https://redux-toolkit.js.org/api/configureStore\n",
    "\n",
    "import { configureStore, Tuple } from '@reduxjs/toolkit'\n",
    "\n",
    "configureStore({\n",
    "  reducer: rootReducer,\n",
    "  middleware: () => new Tuple(additionalMiddleware, logger),\n",
    "})\n"
   ]
  },
  {
   "cell_type": "code",
   "execution_count": null,
   "metadata": {
    "vscode": {
     "languageId": "plaintext"
    }
   },
   "outputs": [],
   "source": [
    "every reducer fucntion takes two thigns (state, action)"
   ]
  },
  {
   "cell_type": "code",
   "execution_count": null,
   "metadata": {
    "vscode": {
     "languageId": "plaintext"
    }
   },
   "outputs": [],
   "source": [
    "store.js :\n",
    "\n",
    "\n",
    "import { configureStore, Tuple } from '@reduxjs/toolkit'\n",
    "// it is just function that manager the whole stores tasks\n",
    "export const configureStore({\n",
    "  reducer: rootReducer,\n",
    "  middleware: () => new Tuple(additionalMiddleware, logger),\n",
    "})\n"
   ]
  }
 ],
 "metadata": {
  "language_info": {
   "name": "python"
  }
 },
 "nbformat": 4,
 "nbformat_minor": 2
}
