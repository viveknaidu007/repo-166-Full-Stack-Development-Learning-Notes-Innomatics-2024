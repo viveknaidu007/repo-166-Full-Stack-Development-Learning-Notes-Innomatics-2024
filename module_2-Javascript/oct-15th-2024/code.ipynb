{
 "cells": [
  {
   "cell_type": "markdown",
   "metadata": {},
   "source": [
    "\n",
    "\n",
    "Javascript\n",
    "\n",
    "Project Demonstration with Local Storage\n"
   ]
  },
  {
   "cell_type": "code",
   "execution_count": null,
   "metadata": {
    "vscode": {
     "languageId": "javascript"
    }
   },
   "outputs": [],
   "source": [
    "//  Web Storage API :\n",
    "\n",
    "local storage --> Data will be stired permanently in ur browser inless and untill u delete in manually\n",
    "\n",
    "Session Storage -> Data will be stored for the time till u close the tab .."
   ]
  },
  {
   "cell_type": "code",
   "execution_count": null,
   "metadata": {
    "vscode": {
     "languageId": "javascript"
    }
   },
   "outputs": [],
   "source": [
    "saveBtn.addEventListener(\"click\", saveName)         \n",
    "\n",
    "eventlsiteners have two things\n",
    "1. is event\n",
    "2. is function"
   ]
  },
  {
   "cell_type": "code",
   "execution_count": null,
   "metadata": {
    "vscode": {
     "languageId": "javascript"
    }
   },
   "outputs": [],
   "source": [
    "ctrl+shift+i"
   ]
  }
 ],
 "metadata": {
  "language_info": {
   "name": "python"
  }
 },
 "nbformat": 4,
 "nbformat_minor": 2
}
