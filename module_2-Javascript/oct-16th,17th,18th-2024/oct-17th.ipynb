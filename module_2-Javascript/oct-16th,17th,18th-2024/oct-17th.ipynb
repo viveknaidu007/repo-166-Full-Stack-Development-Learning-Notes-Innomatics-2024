{
 "cells": [
  {
   "cell_type": "markdown",
   "metadata": {},
   "source": [
    "# React : Card Generator with Props, State, Conditional Rendering\n"
   ]
  },
  {
   "cell_type": "code",
   "execution_count": null,
   "metadata": {
    "vscode": {
     "languageId": "plaintext"
    }
   },
   "outputs": [],
   "source": [
    "props (properties):\n",
    "\n",
    "allow data to pass from one component to another (parent to child)"
   ]
  },
  {
   "cell_type": "code",
   "execution_count": null,
   "metadata": {
    "vscode": {
     "languageId": "plaintext"
    }
   },
   "outputs": [],
   "source": [
    "State : -> Hook : -> use state\n",
    "\n",
    "UseState(Hook)\n",
    "\n",
    "\n",
    "* as Js used in react , React is an library\n",
    "\n",
    "* state is just a situation (focused relaxed chilling)\n",
    "\n",
    "* State is just a Situation\n",
    "\n",
    "* https://react.dev/reference/react/useState\n",
    "\n",
    "\n"
   ]
  },
  {
   "cell_type": "code",
   "execution_count": null,
   "metadata": {
    "vscode": {
     "languageId": "plaintext"
    }
   },
   "outputs": [],
   "source": [
    "Conditional rendering:\n",
    "\n"
   ]
  },
  {
   "cell_type": "code",
   "execution_count": null,
   "metadata": {
    "vscode": {
     "languageId": "plaintext"
    }
   },
   "outputs": [],
   "source": [
    "#create new folder in src as Components :\n",
    "\n",
    "# and add this below:\n",
    "\n",
    "Card.Css\n",
    "Card.jsx\n"
   ]
  },
  {
   "cell_type": "code",
   "execution_count": null,
   "metadata": {
    "vscode": {
     "languageId": "plaintext"
    }
   },
   "outputs": [],
   "source": [
    "now in src => components => Card.jsx\n",
    "\n"
   ]
  },
  {
   "cell_type": "code",
   "execution_count": null,
   "metadata": {
    "vscode": {
     "languageId": "plaintext"
    }
   },
   "outputs": [],
   "source": [
    "and also we have \n",
    "DRY = \"do not repeat yourself "
   ]
  },
  {
   "cell_type": "code",
   "execution_count": null,
   "metadata": {
    "vscode": {
     "languageId": "plaintext"
    }
   },
   "outputs": [],
   "source": [
    "# App.jsx:\n",
    "\n",
    "import { useState } from \"react\";\n",
    "import \"./App.css\";\n",
    "import Card from \"./components/Card\";\n",
    "\n",
    "function App() {\n",
    "  const [name, setName] = useState(\"\");\n",
    "  const [message, setMessage] = useState(\"\");\n",
    "  const [theme, setTheme] = useState(\"light\");\n",
    "\n",
    "  return (\n",
    "    <div className={`app ${theme}`}>\n",
    "      <h1>Personalized Greeting Card Generator</h1>\n",
    "\n",
    "      <div className=\"input-container\">\n",
    "        <input\n",
    "          type=\"text\"\n",
    "          placeholder=\"enter your name\"\n",
    "          value={name}\n",
    "          onChange={(e) => setName(e.target.value)}\n",
    "        />\n",
    "\n",
    "        <input\n",
    "          type=\"text\"\n",
    "          placeholder=\"enter your message\"\n",
    "          value={message}\n",
    "          onChange={(e) => setMessage(e.target.value)}\n",
    "        />\n",
    "        <button onClick={() => setTheme(theme === \"light\" ? \"dark\" : \"light\")}>\n",
    "          Toggle {theme === \"light\" ? \"dark\" : \"light\"} Theme\n",
    "        </button>\n",
    "      </div>\n",
    "\n",
    "      {/* //ternary : if conidition is satisfied -> do this : do that  */}\n",
    "\n",
    "      {name && message ? (\n",
    "        //have you props here to send the data to the Card component\n",
    "        <Card name={name} supermessage={message} theme={theme} />\n",
    "      ) : (\n",
    "        //false statement\n",
    "        <p className=\"instructions\">\n",
    "          Please enter your name and message to see your own card..\n",
    "        </p>\n",
    "      )}\n",
    "    </div>\n",
    "  );\n",
    "}\n",
    "\n",
    "export default App;"
   ]
  },
  {
   "cell_type": "code",
   "execution_count": null,
   "metadata": {
    "vscode": {
     "languageId": "plaintext"
    }
   },
   "outputs": [],
   "source": [
    "Compenets folder :\n",
    "\n",
    "Card.css:\n",
    "\n",
    "/* Card.css */\n",
    ".card {\n",
    "    border: 1px solid #ccc;\n",
    "    border-radius: 8px;\n",
    "    padding: 1.5rem;\n",
    "    width: 300px;\n",
    "    box-shadow: 0px 4px 8px rgba(0, 0, 0, 0.1);\n",
    "    text-align: center; /* Center the text inside the card */\n",
    "  }\n",
    "  \n",
    "  .card h1 {\n",
    "    font-size: 1.8rem;\n",
    "    margin-bottom: 0.5rem;\n",
    "  }\n",
    "  \n",
    "  .card p {\n",
    "    font-size: 1rem;\n",
    "    color: #555;\n",
    "  }\n",
    "  \n",
    "  /* Light theme for the card */\n",
    "  .card.light {\n",
    "    background-color: #ffffff;\n",
    "    color: #333;\n",
    "  }\n",
    "  \n",
    "  /* Dark theme for the card */\n",
    "  .card.dark {\n",
    "    background-color: #333;\n",
    "    color: #f9f9f9;\n",
    "  }"
   ]
  },
  {
   "cell_type": "code",
   "execution_count": null,
   "metadata": {
    "vscode": {
     "languageId": "plaintext"
    }
   },
   "outputs": [],
   "source": [
    "Card.jsx:\n",
    "\n",
    "import React from \"react\";\n",
    "import \"./Card.css\";\n",
    "\n",
    "const Card = ({ name, supermessage, theme }) => {\n",
    "  return (\n",
    "    <div className={`card ${theme}`}>\n",
    "      <h1>Hello, {name}</h1>\n",
    "      <p>{supermessage}</p>\n",
    "    </div>\n",
    "  );\n",
    "};\n",
    "\n",
    "export default Card;\n"
   ]
  },
  {
   "cell_type": "code",
   "execution_count": null,
   "metadata": {
    "vscode": {
     "languageId": "plaintext"
    }
   },
   "outputs": [],
   "source": []
  }
 ],
 "metadata": {
  "language_info": {
   "name": "python"
  }
 },
 "nbformat": 4,
 "nbformat_minor": 2
}
