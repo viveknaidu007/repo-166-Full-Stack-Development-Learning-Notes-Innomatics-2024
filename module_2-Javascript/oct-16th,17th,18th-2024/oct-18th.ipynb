{
 "cells": [
  {
   "cell_type": "code",
   "execution_count": null,
   "metadata": {
    "vscode": {
     "languageId": "plaintext"
    }
   },
   "outputs": [],
   "source": [
    "use effect -> Hook\n",
    "\n",
    "perform side efects on function Components.\n",
    "\n",
    "side effect => task that run outside the react rendering process.\n",
    "\n",
    "1. Data fetching\n",
    "2. updating the DOM\n",
    "3. setting up timers\n",
    "4. Subscribing or unsubscribing (web sockets) to services\n"
   ]
  },
  {
   "cell_type": "code",
   "execution_count": null,
   "metadata": {
    "vscode": {
     "languageId": "plaintext"
    }
   },
   "outputs": [],
   "source": [
    "App.jsx :\n",
    "\n",
    "import React, { useState, useEffect } from \"react\";\n",
    "import './App.css'\n",
    "\n",
    "const App = () => {\n",
    "  const [data, setData] = useState([]);\n",
    "  const [loading, setLoading] = useState(true);\n",
    "\n",
    "  useEffect(() => {\n",
    "    fetch(\"https://dummyjson.com/products\")\n",
    "      .then((response) => response.json())\n",
    "      .then((json) => {\n",
    "        setData(json.products);\n",
    "        setLoading(false);\n",
    "      })\n",
    "      .catch((err) => console.log(\"Error\", err));\n",
    "  }, []);\n",
    "\n",
    "  if (loading) {\n",
    "    return <h2>Please data is Loading....</h2>;\n",
    "  }\n",
    "\n",
    "  return (\n",
    "    //fragments\n",
    "    <>\n",
    "      <div>\n",
    "        {data.map((product) => (\n",
    "          <div key={product.id} className=\"card\" style={{ width: \"18rem\" }}>\n",
    "            <img\n",
    "              src={product.images[0]}\n",
    "              className=\"card-img-top\"\n",
    "              alt={product.title}\n",
    "            />\n",
    "            <div className=\"card-body\">\n",
    "              <h5 className=\"card-title\">{product.title}</h5>\n",
    "              <p className=\"card-text\">{product.description}</p>\n",
    "              <a href=\"#\" className=\"btn btn-primary\">\n",
    "                {product.price}\n",
    "              </a>\n",
    "            </div>\n",
    "          </div>\n",
    "        ))}\n",
    "      </div>\n",
    "    </>\n",
    "  );\n",
    "};\n",
    "\n",
    "export default App;\n",
    "\n",
    "\n"
   ]
  }
 ],
 "metadata": {
  "language_info": {
   "name": "python"
  }
 },
 "nbformat": 4,
 "nbformat_minor": 2
}
