{
 "cells": [
  {
   "cell_type": "markdown",
   "metadata": {},
   "source": [
    "# \n",
    "\n",
    "Javascript\n",
    "\n",
    "React Introduction\n"
   ]
  },
  {
   "cell_type": "code",
   "execution_count": null,
   "metadata": {
    "vscode": {
     "languageId": "plaintext"
    }
   },
   "outputs": [],
   "source": [
    "#always trust official documenetaion :\n",
    "\n",
    "https://react.dev/"
   ]
  },
  {
   "cell_type": "code",
   "execution_count": null,
   "metadata": {
    "vscode": {
     "languageId": "plaintext"
    }
   },
   "outputs": [],
   "source": [
    "The library for web and native user interfaces \n",
    "\n",
    "for web application . and for mobile applications : android and ios\n",
    "\n",
    "and not an frame \n",
    "\n",
    "\n",
    "it was created by facebook in 2013 :\n",
    "\n",
    "they created for insatgram , for single page application (SPA) , and later it became open source"
   ]
  },
  {
   "cell_type": "code",
   "execution_count": null,
   "metadata": {
    "vscode": {
     "languageId": "plaintext"
    }
   },
   "outputs": [],
   "source": [
    "as page wont reload , only specifi ccomponent will load , while using react , its and single page application , =everthing was coming form client not from server"
   ]
  },
  {
   "cell_type": "code",
   "execution_count": null,
   "metadata": {
    "vscode": {
     "languageId": "plaintext"
    }
   },
   "outputs": [],
   "source": [
    "# why we should learn :\n",
    "\n",
    "there are React , AngularJS , VuJS\n",
    "\n",
    "Why React ?\n",
    "\n",
    "becasue of few feetrues :\n",
    "\n",
    "1. SPA(single page application)\n",
    "2. Components()\n",
    "3. JSX (javascript XML) , combination of HTML + JS \n"
   ]
  },
  {
   "cell_type": "code",
   "execution_count": null,
   "metadata": {
    "vscode": {
     "languageId": "plaintext"
    }
   },
   "outputs": [],
   "source": [
    "# insatlling :\n",
    "\n",
    "we have to download \n",
    "nodejs package manager \n",
    "\n",
    "https://nodejs.org/en/download/prebuilt-installer\n",
    "\n",
    "\n",
    "#after installing :\n",
    "check:\n",
    "\n",
    "node -v\n",
    "\n",
    "npm -v\n",
    "\n",
    "React => 1. create react app (350-400 mb)\n",
    "         2 . Vite app (50mb)"
   ]
  },
  {
   "cell_type": "code",
   "execution_count": null,
   "metadata": {
    "vscode": {
     "languageId": "plaintext"
    }
   },
   "outputs": [],
   "source": [
    "npm create vite@latest\n",
    "give project name\n",
    "select a framework :  React (it will ask select framework)\n",
    "select a variant :  Javascript\n",
    "\n",
    "cd introduction\n",
    "npm install \n",
    "npm run dev\n"
   ]
  },
  {
   "cell_type": "code",
   "execution_count": null,
   "metadata": {
    "vscode": {
     "languageId": "plaintext"
    }
   },
   "outputs": [],
   "source": [
    "vite documentation :\n",
    "\n",
    "https://vite.dev/guide/"
   ]
  },
  {
   "cell_type": "code",
   "execution_count": null,
   "metadata": {
    "vscode": {
     "languageId": "plaintext"
    }
   },
   "outputs": [],
   "source": [
    "* Component always start with Capital letter (App )"
   ]
  },
  {
   "cell_type": "code",
   "execution_count": null,
   "metadata": {},
   "outputs": [],
   "source": [
    "#App.jsx :\n",
    "\n",
    "function App(){\n",
    "  return <h1>\n",
    "    Hello! Folks lets learn React\n",
    "  </h1>\n",
    "}\n",
    "\n",
    "export default App"
   ]
  },
  {
   "cell_type": "code",
   "execution_count": null,
   "metadata": {},
   "outputs": [],
   "source": [
    "we can send as amny as exports\n",
    "\n",
    "\n",
    "#main.jsx:\n",
    "\n",
    "import { StrictMode } from 'react';\n",
    "import { createRoot } from 'react-dom/client';\n",
    "import { App, Add } from './App.jsx'; // Import both as named imports\n",
    "import './index.css';\n",
    "\n",
    "createRoot(document.getElementById('root')).render(\n",
    "  <StrictMode>\n",
    "    <App />\n",
    "    <Add />\n",
    "  </StrictMode>\n",
    ");\n",
    "\n",
    "\n",
    "#App.jsx:\n",
    "\n",
    "function App(){\n",
    "  return <h1> Hello bro!</h1>\n",
    "}\n",
    "\n",
    "function Add(){\n",
    "  return <h3>5 + 5</h3>;\n",
    "}\n",
    "\n",
    "export { App, Add };\n",
    "//deafault export\n",
    "//export default App;\n"
   ]
  },
  {
   "cell_type": "code",
   "execution_count": null,
   "metadata": {},
   "outputs": [],
   "source": [
    "# this is other process for react :\n",
    "\n",
    "npx create-react-app pojectname\n",
    "\n",
    "it will take 3 to 4 min for creation of project \n",
    "\n",
    "and also 300 to 400 mb,\n",
    "\n",
    "so that y we use vite , it takes 50 mb"
   ]
  }
 ],
 "metadata": {
  "language_info": {
   "name": "python"
  }
 },
 "nbformat": 4,
 "nbformat_minor": 2
}
