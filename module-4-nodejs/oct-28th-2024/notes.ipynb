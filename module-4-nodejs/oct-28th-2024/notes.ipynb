{
 "cells": [
  {
   "cell_type": "markdown",
   "metadata": {},
   "source": [
    "# Javascript Express and Types of Middlewares\n"
   ]
  },
  {
   "cell_type": "code",
   "execution_count": null,
   "metadata": {
    "vscode": {
     "languageId": "plaintext"
    }
   },
   "outputs": [],
   "source": [
    "# documentation :\n",
    "http://expressjs.com/en/starter/installing.html"
   ]
  },
  {
   "cell_type": "code",
   "execution_count": null,
   "metadata": {
    "vscode": {
     "languageId": "plaintext"
    }
   },
   "outputs": [],
   "source": [
    "# types of middleware\n",
    "\n",
    "- EJS \n",
    "\n",
    "expressjs : frameowrk of Nodejs , useful for building single page and multipage APP\n",
    "\n",
    "use:\n",
    "- fast : Quickly build APP\n",
    "- flexible : \n",
    "- middle ware support: authentication , logging , error handling.\n",
    "- large community\n",
    " "
   ]
  },
  {
   "cell_type": "code",
   "execution_count": null,
   "metadata": {
    "vscode": {
     "languageId": "plaintext"
    }
   },
   "outputs": [],
   "source": [
    "# differnece Between Nodejs and expressjs\n",
    "\n",
    "Nodejs:backend system (building the backend system)\n",
    "Expressjs: frame work of nodejs (we can build apis)"
   ]
  },
  {
   "cell_type": "code",
   "execution_count": null,
   "metadata": {
    "vscode": {
     "languageId": "plaintext"
    }
   },
   "outputs": [],
   "source": [
    "middleware : it is a function Execute during the request - response cycle , it has access to request , response aswell next function\n",
    "\n",
    "* next funxtion means , process content of next stack.\n",
    "\n",
    "registartion => login => dashboard \n",
    "\n",
    "* middleware we used in speccialy login (it will authenticate)\n",
    "* "
   ]
  },
  {
   "cell_type": "code",
   "execution_count": null,
   "metadata": {
    "vscode": {
     "languageId": "plaintext"
    }
   },
   "outputs": [],
   "source": [
    "# types of middleware :\n",
    "\n",
    "1.application level middleware (it will apply to globally to all documents , once u have declares , then it will be accesblt to all)\n",
    "2. ruter leve l middleware (specific routes)\n",
    "3. Error handling MW : Handles Error\n",
    "4. Built-in-MW : Default (express.js)\n",
    "\n"
   ]
  },
  {
   "cell_type": "markdown",
   "metadata": {},
   "source": [
    "# installing"
   ]
  },
  {
   "cell_type": "code",
   "execution_count": null,
   "metadata": {
    "vscode": {
     "languageId": "plaintext"
    }
   },
   "outputs": [],
   "source": [
    "npm init -y\n",
    "npm i express"
   ]
  },
  {
   "cell_type": "code",
   "execution_count": null,
   "metadata": {
    "vscode": {
     "languageId": "plaintext"
    }
   },
   "outputs": [],
   "source": [
    "add this in package.json at scripts:\n",
    "\n",
    "    \"start\": \"node app.js\""
   ]
  },
  {
   "cell_type": "code",
   "execution_count": null,
   "metadata": {
    "vscode": {
     "languageId": "plaintext"
    }
   },
   "outputs": [],
   "source": [
    "# create app.js file"
   ]
  },
  {
   "cell_type": "code",
   "execution_count": null,
   "metadata": {
    "vscode": {
     "languageId": "plaintext"
    }
   },
   "outputs": [],
   "source": [
    "# steps we have to do , whenevr we adding the express in our application "
   ]
  },
  {
   "cell_type": "code",
   "execution_count": null,
   "metadata": {
    "vscode": {
     "languageId": "plaintext"
    }
   },
   "outputs": [],
   "source": [
    "# app.js:\n",
    "\n",
    "const express = require('express')\n",
    "const app = express()\n",
    "\n",
    "//first M.W\n",
    "app.use('/',(req,res,next) => {\n",
    "    console.log('hello this is first res')\n",
    "    next()\n",
    "})\n",
    "\n",
    "//second mw\n",
    "app.use('/',(req,res,next) =>{\n",
    "    console.log('second middleware')\n",
    "    next()\n",
    "})\n",
    "\n",
    "//third MW\n",
    "app.use('/',(req,res,next)=>{\n",
    "    console.log('third MW')\n",
    "})\n",
    "\n",
    "\n",
    "app.listen(3000,()=>{\n",
    "    console.log('server is running')\n",
    "})\n",
    "\n",
    "\n",
    "#now type this in cmd:\n",
    "node app.js\n",
    "\n",
    "#now open \n",
    "http://localhost:3000/"
   ]
  },
  {
   "cell_type": "code",
   "execution_count": null,
   "metadata": {
    "vscode": {
     "languageId": "plaintext"
    }
   },
   "outputs": [],
   "source": [
    "#router.js:\n",
    "\n",
    "const express = require('express')\n",
    "const app=express()\n",
    "const router = express.Router()  // syntax of router\n",
    "\n",
    "\n",
    "router.use((req,res,next)=>{\n",
    "    console.log('Router level middleware')\n",
    "    next()\n",
    "})\n",
    "\n",
    "\n",
    "router.get('/',(req,res)=>{\n",
    "    console.log('Welcome to router page')\n",
    "    res.send('Get method example')\n",
    "})\n",
    "\n",
    "router.get('/about',(req,res)=>{\n",
    "    console.log('welcome to about us page')\n",
    "    res.send('about us page')\n",
    "})\n",
    "\n",
    "router.get('about/one',(req,res)=>{\n",
    "    res.send('Nested routes')\n",
    "})\n",
    "\n",
    "app.use('/info',router)\n",
    "app.listen(3200,()=>{\n",
    "    console.log('server is running')\n",
    "})\n",
    "\n",
    "#run this :\n",
    "node router.js\n"
   ]
  },
  {
   "cell_type": "code",
   "execution_count": null,
   "metadata": {
    "vscode": {
     "languageId": "plaintext"
    }
   },
   "outputs": [],
   "source": [
    "# err.js:\n",
    "\n",
    "const express = require('express')\n",
    "const app=express()\n",
    "\n",
    "//error handling\n",
    "const errorHandling = (err,req,res,next)=>{\n",
    "    console.log(err.stack)\n",
    "    res.stack(500).send('something went wrong here ...........')\n",
    "}\n",
    "\n",
    "app.use((req,res,next)=>{\n",
    "    throw new Error('something broke')\n",
    "})\n",
    "\n",
    "app.use(errorHandling)\n",
    "app.listen(4000,()=>{\n",
    "    console.log('Server is running')\n",
    "})\n",
    "\n",
    "\n",
    "# node err.js"
   ]
  },
  {
   "cell_type": "code",
   "execution_count": null,
   "metadata": {
    "vscode": {
     "languageId": "plaintext"
    }
   },
   "outputs": [],
   "source": [
    "#builtmw.js:\n",
    "\n",
    "const express = require('express')\n",
    "const app = express()\n",
    "const path = require('path')  //resolve file path\n",
    "\n",
    "\n",
    "app.use(express.json())\n",
    "app.use(express.urlencoded({extended:true}))\n",
    "\n",
    "// it servers static files from public folder\n",
    "app.use(express.static('public'))\n",
    "\n",
    "//routes to handle json req\n",
    "app.post('/api/data',(req,res)=>{\n",
    "    const data=req.body // parsed the json data\n",
    "})\n",
    "\n",
    "//\n",
    "app.post('/api/form',(req,res)=>{\n",
    "    const {name,email} = req.body\n",
    "    res.json({msg:'Received from data',name,email})\n",
    "})\n",
    "\n",
    "//\n",
    "app.listen(3000,()=>{\n",
    "    console.log('Server is running')\n",
    "})\n",
    "\n"
   ]
  },
  {
   "cell_type": "code",
   "execution_count": null,
   "metadata": {
    "vscode": {
     "languageId": "plaintext"
    }
   },
   "outputs": [],
   "source": [
    "# install thunder client in vscode extention"
   ]
  }
 ],
 "metadata": {
  "language_info": {
   "name": "python"
  }
 },
 "nbformat": 4,
 "nbformat_minor": 2
}
