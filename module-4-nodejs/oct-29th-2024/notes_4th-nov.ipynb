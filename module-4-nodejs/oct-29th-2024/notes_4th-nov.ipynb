{
 "cells": [
  {
   "cell_type": "code",
   "execution_count": null,
   "metadata": {
    "vscode": {
     "languageId": "plaintext"
    }
   },
   "outputs": [],
   "source": [
    "# we are doing socket.io\n",
    "\n",
    "#it was basically used for chatconnection between 2 users"
   ]
  },
  {
   "cell_type": "markdown",
   "metadata": {},
   "source": [
    "# Socket Io,creating RestApi"
   ]
  },
  {
   "cell_type": "code",
   "execution_count": null,
   "metadata": {
    "vscode": {
     "languageId": "plaintext"
    }
   },
   "outputs": [],
   "source": [
    "#write ur code client.js\n",
    "#clinet.js:\n",
    "\n",
    "const socket=io();\n",
    "const form=document.getElementById('form')\n",
    "const myname=document.getElementById('myname')\n",
    "const message=document.getElementById('message')\n",
    "const messageArea=document.getElementById('messageArea')\n",
    "\n",
    "form.addEventListener('submit',(e)=>{\n",
    "    e.preventDefault()\n",
    "    if(myname.value && message.value){\n",
    "        socket.emit('send name',myname.value);\n",
    "        socket.emit('send message',message.value);\n",
    "        message.value='';\n",
    "    }\n",
    "})\n",
    "socket.on('send name',(username)=>{\n",
    "    const name=document.createElement('p')\n",
    "    name.textContent=`${username}:`;\n",
    "    name.className='username';\n",
    "    messageArea.appendChild(name)\n",
    "})\n",
    "socket.on('send message',(chat)=>{\n",
    "    const chatContent=document.createElement('p')\n",
    "    chatContent.textContent=chat;\n",
    "    chatContent.className='message'\n",
    "    messageArea.appendChild(chatContent)\n",
    "})"
   ]
  },
  {
   "cell_type": "code",
   "execution_count": null,
   "metadata": {
    "vscode": {
     "languageId": "plaintext"
    }
   },
   "outputs": [],
   "source": [
    "# update the css code:\n"
   ]
  },
  {
   "cell_type": "code",
   "execution_count": null,
   "metadata": {
    "vscode": {
     "languageId": "plaintext"
    }
   },
   "outputs": [],
   "source": [
    "# add this in index.htmk:\n",
    "\n",
    "# https://socket.io/docs/v4/client-api\n",
    "\n",
    "\n",
    "# add this in .html:\n",
    "\n",
    "<script src=\"/socket.io/socket.io.js\"></script>"
   ]
  },
  {
   "cell_type": "code",
   "execution_count": null,
   "metadata": {
    "vscode": {
     "languageId": "plaintext"
    }
   },
   "outputs": [],
   "source": [
    "# now run the application:\n",
    "\n",
    "# documentation:: https://socket.io/docs/v4/client-api\n",
    "\n",
    "node app.js\n",
    "\n"
   ]
  },
  {
   "cell_type": "code",
   "execution_count": null,
   "metadata": {
    "vscode": {
     "languageId": "plaintext"
    }
   },
   "outputs": [],
   "source": [
    "# "
   ]
  }
 ],
 "metadata": {
  "language_info": {
   "name": "python"
  }
 },
 "nbformat": 4,
 "nbformat_minor": 2
}
