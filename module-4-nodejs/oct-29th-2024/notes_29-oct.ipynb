{
 "cells": [
  {
   "cell_type": "markdown",
   "metadata": {},
   "source": [
    "# Javascript Ejs and Socket.Io\n"
   ]
  },
  {
   "cell_type": "code",
   "execution_count": null,
   "metadata": {
    "vscode": {
     "languageId": "plaintext"
    }
   },
   "outputs": [],
   "source": [
    "EJS = Embedded Java Script\n",
    "\n",
    "* Template JS is Template engine for Nodejs , allows you to create dynamic Html pages by embedding Js code you Template\n"
   ]
  },
  {
   "cell_type": "code",
   "execution_count": null,
   "metadata": {
    "vscode": {
     "languageId": "plaintext"
    }
   },
   "outputs": [],
   "source": [
    "#Docs:\n",
    "\n",
    "https://expressjs.com/en/guide/using-template-engines.html"
   ]
  },
  {
   "cell_type": "code",
   "execution_count": null,
   "metadata": {
    "vscode": {
     "languageId": "plaintext"
    }
   },
   "outputs": [],
   "source": [
    "// to the ejs:\n",
    "\n",
    "npm init -y\n",
    "npm i express ejs\n"
   ]
  },
  {
   "cell_type": "code",
   "execution_count": null,
   "metadata": {
    "vscode": {
     "languageId": "plaintext"
    }
   },
   "outputs": [],
   "source": [
    "//\n",
    "\n",
    "create views folder and create files"
   ]
  },
  {
   "cell_type": "code",
   "execution_count": null,
   "metadata": {
    "vscode": {
     "languageId": "plaintext"
    }
   },
   "outputs": [],
   "source": [
    "# add this in package.json\n",
    "    \"start\": \"node app.js\"\n"
   ]
  },
  {
   "cell_type": "code",
   "execution_count": null,
   "metadata": {
    "vscode": {
     "languageId": "plaintext"
    }
   },
   "outputs": [],
   "source": [
    "# now run :\n",
    "\n",
    "node app.js\n",
    "http://localhost:5000/about"
   ]
  },
  {
   "cell_type": "code",
   "execution_count": null,
   "metadata": {
    "vscode": {
     "languageId": "plaintext"
    }
   },
   "outputs": [],
   "source": []
  },
  {
   "cell_type": "markdown",
   "metadata": {},
   "source": [
    "# Socket.IO\n"
   ]
  },
  {
   "cell_type": "code",
   "execution_count": null,
   "metadata": {
    "vscode": {
     "languageId": "plaintext"
    }
   },
   "outputs": [],
   "source": [
    "# socket.io :\n",
    "its an JS library , and event based communication (chat based kind of applicayion)\n",
    "eg : chat apps , online games , live notifications\n",
    "\n",
    "#documentaion : \n",
    "\n",
    "https://socket.io/docs/v4/\n",
    "\n",
    "https://socket.io/get-started/chat"
   ]
  },
  {
   "cell_type": "code",
   "execution_count": null,
   "metadata": {
    "vscode": {
     "languageId": "plaintext"
    }
   },
   "outputs": [],
   "source": [
    "1. msg:\n",
    "Event , Event loop\n",
    "Event emitter , generate ecents , allow\n",
    "uses to interact with the application"
   ]
  },
  {
   "cell_type": "code",
   "execution_count": null,
   "metadata": {
    "vscode": {
     "languageId": "plaintext"
    }
   },
   "outputs": [],
   "source": [
    "# create public folder:\n",
    "\n",
    "# create files\n",
    "\n",
    "# now :\n",
    "\n",
    "npm init -y\n",
    "\n",
    "#add this in package.json:\n",
    "    \"start\": \"node app.js\"\n",
    "  \n",
    "npm install socket.io\n",
    "\n"
   ]
  },
  {
   "cell_type": "code",
   "execution_count": null,
   "metadata": {
    "vscode": {
     "languageId": "plaintext"
    }
   },
   "outputs": [],
   "source": [
    "#this code avaible in docu :\n",
    "\n",
    "\n",
    "#app.js :\n",
    "const express = require('express')\n",
    "const app=express()\n",
    "const http = require('http)\n",
    "const {server} = require('socket.io')\n",
    "const server = http.createServer(app)\n",
    "const io=new Server(server)\n",
    "const port = 4000\n",
    "\n",
    "//connect to public folder\n",
    "app.use(express.static('public))\n",
    "\n",
    "//set up routes\n",
    "app.get('/',(req,res)=>{\n",
    "    res.sendFile(__dirname+'/../public/index.html)\n",
    "})\n",
    "\n",
    "// Handle soclet.io\n",
    "io.on('connection',{socket}=>{\n",
    "    console.log('A user is connected')\n",
    "})\n"
   ]
  }
 ],
 "metadata": {
  "language_info": {
   "name": "python"
  }
 },
 "nbformat": 4,
 "nbformat_minor": 2
}
