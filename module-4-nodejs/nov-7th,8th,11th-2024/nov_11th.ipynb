{
 "cells": [
  {
   "cell_type": "markdown",
   "metadata": {},
   "source": [
    "# Complete Event Managment website with Mern stack\n"
   ]
  },
  {
   "cell_type": "code",
   "execution_count": null,
   "metadata": {
    "vscode": {
     "languageId": "plaintext"
    }
   },
   "outputs": [],
   "source": [
    "# to mnimize the work , im using bootstrap"
   ]
  },
  {
   "cell_type": "code",
   "execution_count": null,
   "metadata": {
    "vscode": {
     "languageId": "plaintext"
    }
   },
   "outputs": [],
   "source": [
    "# now lets build navigation bar \n",
    "\n",
    "# documentation :\n",
    "https://getbootstrap.com/docs/5.2/getting-started/introduction/\n",
    "\n",
    "\n",
    "#Home.jsx:\n",
    "#type rafce\n",
    "\n",
    "https://getbootstrap.com/docs/5.2/components/navbar/#how-it-works\n",
    "\n",
    "- it will give like this :\n",
    "import React from 'react'\n",
    "\n",
    "const Home = () => {\n",
    "  return (\n",
    "    <div>Home</div>\n",
    "  )\n",
    "}\n",
    "\n",
    "export default Home\n",
    "\n",
    "- paste ur code in return parameter"
   ]
  },
  {
   "cell_type": "code",
   "execution_count": null,
   "metadata": {
    "vscode": {
     "languageId": "plaintext"
    }
   },
   "outputs": [],
   "source": [
    "cd frontend\n",
    "npm i react-hot-toast"
   ]
  },
  {
   "cell_type": "code",
   "execution_count": null,
   "metadata": {},
   "outputs": [],
   "source": [
    "#Contact.jsx:\n",
    "\n",
    "import axios from 'axios'\n",
    "import React, { useState } from 'react'\n",
    "import  toast from 'react-hot-toast'\n",
    "const Contact = () => {\n",
    "    const[name,setName]=useState('')\n",
    "    const[email,setEmail]=useState('')\n",
    "    const[subject,setSubject]=useState('')\n",
    "    const[message,setMessage]=useState('')\n",
    "\n",
    "    const handleSubmit=async(e)=>{\n",
    "        e.preventDefault();\n",
    "        await axios.post('http://localhost:8000/api/v1/event',{name,email,subject,message})\n",
    "            .then((res)=>{\n",
    "                toast.success(res.data.message);\n",
    "                setName('');\n",
    "                setEmail('')\n",
    "                setSubject('')\n",
    "                setMessage('')\n",
    "            }\n",
    "    )\n",
    "    .catch(error=>{\n",
    "        toast.error(error.response.data.message)\n",
    "    })\n",
    "    }\n",
    "  return (\n",
    "    <div>\n",
    "      <div className='conctact-page container my-5'>\n",
    "        <div className='row'>\n",
    "            <div className='col-md-6'>\n",
    "                <h2 className='form-title mb-4'>Contact Us</h2>\n",
    "                <form onSubmit={handleSubmit}>\n",
    "                    <div className='form-group mb-3'>\n",
    "                        <input type='text' className='form-control' placeholder='Name' value={name} onChange={(e)=>setName(e.target.value)} />\n",
    "                    </div>\n",
    "\n",
    "                    <div className='form-group mb-3'>\n",
    "                        <input type='email' className='form-control' placeholder='E-mail' value={email} onChange={(e)=>setEmail(e.target.value)} />\n",
    "                    </div>\n",
    "\n",
    "                    <div className='form-group mb-3'>\n",
    "                        <input type='text' className='form-control' placeholder='Subject' value={subject} onChange={(e)=>setSubject(e.target.value)} />\n",
    "                    </div>\n",
    "\n",
    "                    <div className='form-group mb-3'>\n",
    "                      <textarea rows={8} className='form-control' placeholder='Message' value={message} onChange={(e)=>setMessage(e.target.value)} />\n",
    "                    </div>\n",
    "                    <button type='submit' className='btn btn-primary w-100'>Send Message</button>\n",
    "                </form>\n",
    "            </div>\n",
    "\n",
    "            {/* Map column */}\n",
    "            <div className='col-md-6 d-flex align-items-center'>\n",
    "            <iframe src=\"https://www.google.com/maps/embed?pb=!1m23!1m12!1m3!1d60902.78054587302!2d78.32967394707512!3d17.439419214697008!2m3!1f0!2f0!3f0!3m2!1i1024!2i768!4f13.1!4m8!3e6!4m0!4m5!1s0x3bcb91f3fdf6bde9%3A0x752db86a6ab3be2a!2s205%2C%20Innomatics%20Research%20Labs%2C%20Fortune%20Signature%2C%20beside%20Metro%20Station%20Jntu%20College%2C%20Kukatpally%2C%20Hyderabad%2C%20Telangana%20500085!3m2!1d17.4980302!2d78.3899895!5e0!3m2!1sen!2sin!4v1731333363460!5m2!1sen!2sin\" width=\"600\" height=\"450\" style={{border:0}} allowfullscreen=\"\" loading=\"lazy\" ></iframe>\n",
    "            </div>\n",
    "        </div>\n",
    "      </div>\n",
    "    </div>\n",
    "  )\n",
    "}\n",
    "\n",
    "export default Contact\n"
   ]
  },
  {
   "cell_type": "code",
   "execution_count": null,
   "metadata": {
    "vscode": {
     "languageId": "plaintext"
    }
   },
   "outputs": [],
   "source": [
    "#create images.json\n",
    "#src/assets/images.json\n",
    "\n",
    "[\n",
    "    {\n",
    "      \"id\": 1,\n",
    "      \"title\": \"Birthday Planning\",\n",
    "      \"url\": \"https://static.vecteezy.com/system/resources/previews/029/317/657/non_2x/celebration-setting-lively-decorations-make-for-a-spirited-birthday-party-background-ai-generated-photo.jpg\"\n",
    "    },\n",
    "    {\n",
    "      \"id\": 2,\n",
    "      \"title\": \"Anniversary Planning\",\n",
    "      \"url\": \"https://encrypted-tbn0.gstatic.com/images?q=tbn:ANd9GcRNl8dKeqVB-6jOYWp6KywavIUMUJ1t30Dx_xzy3w3VnUnNJbqB8skY--dO0JaslyYBg4M&usqp=CAU\"\n",
    "    },\n",
    "    {\n",
    "      \"id\": 3,\n",
    "      \"title\": \"Camping Trip Planning\",\n",
    "      \"url\": \"https://encrypted-tbn0.gstatic.com/images?q=tbn:ANd9GcQnRjhDTNCBMzflD2y2JcxQY6Vx8v862G_iyOlMDnTnpRz15ajZulkQxPfiejExC_K72vc&usqp=CAU\"\n",
    "    },\n",
    "    {\n",
    "      \"id\": 4,\n",
    "      \"title\": \"Cooperate Confernce\",\n",
    "      \"url\": \"https://encrypted-tbn0.gstatic.com/images?q=tbn:ANd9GcThMYUuUzgI_8wDXHkyjbdDbRkFjdb6-cPaLE4b07As5QxSBt1EREdwToxRcBBrWSL9DYs&usqp=CAU\"\n",
    "    },\n",
    "    {\n",
    "      \"id\": 5,\n",
    "      \"title\": \"Party Planning\",\n",
    "      \"url\": \"https://encrypted-tbn0.gstatic.com/images?q=tbn:ANd9GcS__zxtydx0h0uDrXMY0__xZDOMEYd_TM0jnKmZu8PuxdAMBFNUu-VRo5busvNq_n2f-mA&usqp=CAU\"\n",
    "    },\n",
    "    {\n",
    "      \"id\": 6,\n",
    "      \"title\": \"Wedding Planning\",\n",
    "      \"url\": \"https://encrypted-tbn0.gstatic.com/images?q=tbn:ANd9GcSJwT112MJW40BTecHUBwCadSSb8noYT7sTctKVHqE-vhaWMc2fV7RIif78dEXSgabjrDI&usqp=CAU\"\n",
    "    }\n",
    "  ]\n",
    "  "
   ]
  },
  {
   "cell_type": "code",
   "execution_count": null,
   "metadata": {
    "vscode": {
     "languageId": "plaintext"
    }
   },
   "outputs": [],
   "source": [
    "#cards we have to create cards using bootstrap for the images.json\n",
    "\n",
    "https://getbootstrap.com/docs/5.2/components/card/#about"
   ]
  },
  {
   "cell_type": "code",
   "execution_count": null,
   "metadata": {},
   "outputs": [],
   "source": [
    "#Services.jsx\n",
    "\n",
    "rafce\n",
    "\n",
    "#before:\n",
    "import React from 'react'\n",
    "\n",
    "const Service = () => {\n",
    "  return (\n",
    "    <div>Service</div>\n",
    "  )\n",
    "}\n",
    "\n",
    "export default Service\n",
    "\n",
    "#after:\n",
    "\n",
    "import React, { useEffect, useState } from 'react'\n",
    "import serviceData from '../assets/images.json'\n",
    "\n",
    "const Services = () => {\n",
    "    const[services,setServices]=useState([])\n",
    "\n",
    "    useEffect(()=>{\n",
    "        setServices(serviceData)\n",
    "    },[])\n",
    "  return (\n",
    "    <div>\n",
    "      <section id='services' className='services container py-5'>\n",
    "        <h2 className='text-center text-dark mb-4'>Our Services</h2>\n",
    "        <div className='row g-4'>\n",
    "         {services.map((service)=>(\n",
    "            <>\n",
    "            <div className='col-md-4 col-sm-6'>\n",
    "            <div className='service-item card'>\n",
    "                <img src={service.url}\n",
    "                alt={service.title}\n",
    "                className='card-img-top service-img' />\n",
    "                <div className='card-body'>\n",
    "                    <h3 className='card-title text-dark'>{service.title}</h3>\n",
    "                </div>\n",
    "                </div>\n",
    "                </div>\n",
    "                </>\n",
    "         ))}\n",
    "        </div>\n",
    "      </section>\n",
    "    </div>\n",
    "  )\n",
    "}\n",
    "\n",
    "export default Services\n",
    "\n",
    "#update the App.css according to ur requiremnt 9style sand colours"
   ]
  },
  {
   "cell_type": "code",
   "execution_count": null,
   "metadata": {},
   "outputs": [],
   "source": [
    "#hero section.jsx:\n",
    "\n",
    "\n",
    "import React from 'react'\n",
    "\n",
    "const HeroSection = () => {\n",
    "  return (\n",
    "    <div>\n",
    "      <section id='hero' className='hero'>\n",
    "        <div className='hero-content text-center'>\n",
    "            <h1 className='hero-title'>Plan Your Dream Event</h1>\n",
    "            <p className='hero-desc'>We Make Your Events Unforgattable with a great Attention to detail.</p>\n",
    "            <a href='#contact' className='btn btn-color'>Book Now</a>\n",
    "        </div>\n",
    "      </section>\n",
    "    </div>\n",
    "  )\n",
    "}\n",
    "\n",
    "export default HeroSection\n",
    "\n",
    "\n",
    "#update App.css , according to you"
   ]
  },
  {
   "cell_type": "code",
   "execution_count": null,
   "metadata": {},
   "outputs": [],
   "source": [
    "#update Home.jsx:\n",
    "\n"
   ]
  },
  {
   "cell_type": "code",
   "execution_count": null,
   "metadata": {},
   "outputs": [],
   "source": [
    "npm install bootstrap"
   ]
  },
  {
   "cell_type": "code",
   "execution_count": null,
   "metadata": {},
   "outputs": [],
   "source": [
    "# update main.jsx:\n",
    "\n",
    "import { StrictMode } from 'react'\n",
    "import { createRoot } from 'react-dom/client'\n",
    "import './index.css'\n",
    "import App from './App.jsx'\n",
    "import 'bootstrap/dist/css/bootstrap.min.css';\n",
    "import 'bootstrap/dist/js/bootstrap.bundle.min.js';\n",
    "\n",
    "\n",
    "createRoot(document.getElementById('root')).render(\n",
    "  <StrictMode>\n",
    "    <App />\n",
    "  </StrictMode>,\n",
    ")"
   ]
  }
 ],
 "metadata": {
  "language_info": {
   "name": "python"
  }
 },
 "nbformat": 4,
 "nbformat_minor": 2
}
