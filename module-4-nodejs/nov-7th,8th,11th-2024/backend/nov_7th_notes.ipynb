{
 "cells": [
  {
   "cell_type": "markdown",
   "metadata": {},
   "source": [
    "# Backend"
   ]
  },
  {
   "cell_type": "markdown",
   "metadata": {},
   "source": [
    "# Event MAnagement"
   ]
  },
  {
   "cell_type": "code",
   "execution_count": null,
   "metadata": {
    "vscode": {
     "languageId": "plaintext"
    }
   },
   "outputs": [],
   "source": [
    "npm init -y\n",
    "npm i express mongoose dotenv body-parser cors\n",
    "npm i nodemon"
   ]
  },
  {
   "cell_type": "code",
   "execution_count": null,
   "metadata": {
    "vscode": {
     "languageId": "plaintext"
    }
   },
   "outputs": [],
   "source": [
    "#add the development server in package.json\n",
    "\n",
    "  \"scripts\": {\n",
    "    \"test\": \"echo \\\"Error: no test specified\\\" && exit 1\",\n",
    "    \"start\": \"node app.js\",\n",
    "    \"dev\" : \"nodemon app.js\"\n",
    "  },\n"
   ]
  },
  {
   "cell_type": "code",
   "execution_count": null,
   "metadata": {
    "vscode": {
     "languageId": "plaintext"
    }
   },
   "outputs": [],
   "source": [
    "# add folder and files:\n",
    "\n",
    "controllers/eventController.js\n",
    "models/eventSchma.js\n",
    "routes/app.js,eventRoute.js"
   ]
  },
  {
   "cell_type": "code",
   "execution_count": null,
   "metadata": {},
   "outputs": [],
   "source": [
    "#backend/controllers/eventController.js\n",
    "\n",
    "const Event=require('../models/eventSchema')\n",
    "\n",
    "//Controller function to send a message\n",
    "exports.sendMessage=async(req,res)=>{\n",
    "    try{\n",
    "        const{name,email,subject,message}=req.body;\n",
    "        \n",
    "        //Basic validation\n",
    "        if(!name || !email ||!subject ||!message){\n",
    "            return res.status(400).json({success:false,message:'All feilds are required'})\n",
    "        }\n",
    "        await Event.create({name,email,subject,message});\n",
    "        res.status(200).json({success:true,message:'Message sent successfully'})\n",
    "    }catch(err){\n",
    "        console.log('Error in posting the data',err)\n",
    "    }\n",
    "}"
   ]
  },
  {
   "cell_type": "code",
   "execution_count": null,
   "metadata": {},
   "outputs": [],
   "source": [
    "#backend/models/eventSchema.js\n",
    "\n",
    "\n",
    "const mongoose=require('mongoose')\n",
    "\n",
    "const eventSchema=new mongoose.Schema({\n",
    "    name:{\n",
    "        type:String,\n",
    "        required:[true,\"Name is required\"],\n",
    "        minlength:[3,\"Name must contain at least 3 characters!\"]\n",
    "    },\n",
    "    email:{\n",
    "        type:String,\n",
    "        required:[true,\"Email is required\"],\n",
    "        match:[/\\S+@\\S+\\.\\S+/,\"Please provide a valid email address\"]\n",
    "    },\n",
    "    subject:{\n",
    "        type:String,\n",
    "        required:[true,\"Subject is required\"],\n",
    "        minlength:[5,\"Subject must contain atleast 5 characters!\"]\n",
    "    },\n",
    "    message:{\n",
    "        type:String,\n",
    "        required:[true,\"Message is required\"],\n",
    "        minlength:[10,\"Message must contain atleast 10 characters!\"]\n",
    "    }\n",
    "})\n",
    "module.exports=mongoose.model('Event',eventSchema)"
   ]
  }
 ],
 "metadata": {
  "language_info": {
   "name": "python"
  }
 },
 "nbformat": 4,
 "nbformat_minor": 2
}
