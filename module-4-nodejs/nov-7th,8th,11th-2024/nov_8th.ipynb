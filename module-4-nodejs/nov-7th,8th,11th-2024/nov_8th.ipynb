{
 "cells": [
  {
   "cell_type": "markdown",
   "metadata": {},
   "source": []
  },
  {
   "cell_type": "code",
   "execution_count": null,
   "metadata": {
    "vscode": {
     "languageId": "plaintext"
    }
   },
   "outputs": [],
   "source": [
    "# now \n",
    "\n",
    "#create frontend folder\n",
    "\n",
    "cd frontend\n",
    "npm create vite@latest .\n",
    "React\n",
    "JS\n",
    "\n",
    "npm i\n"
   ]
  },
  {
   "cell_type": "code",
   "execution_count": null,
   "metadata": {
    "vscode": {
     "languageId": "plaintext"
    }
   },
   "outputs": [],
   "source": [
    "npm i react-router-dom axios react-icons"
   ]
  },
  {
   "cell_type": "code",
   "execution_count": null,
   "metadata": {
    "vscode": {
     "languageId": "plaintext"
    }
   },
   "outputs": [],
   "source": [
    "create Components folder:\n",
    "\n",
    "src/components\n",
    "About.jsx\n",
    "Contact.jsx\n",
    "Footer.jsx\n",
    "Home.jsx\n",
    "Services.jsx"
   ]
  },
  {
   "cell_type": "code",
   "execution_count": null,
   "metadata": {
    "vscode": {
     "languageId": "plaintext"
    }
   },
   "outputs": [],
   "source": [
    "# type rafc:\n",
    "\n",
    "# it will display below \n",
    "\n",
    "import React from 'react'\n",
    "\n",
    "export const About = () => {\n",
    "  return (\n",
    "    <div>About</div>\n",
    "  )\n",
    "}\n"
   ]
  },
  {
   "cell_type": "code",
   "execution_count": null,
   "metadata": {
    "vscode": {
     "languageId": "plaintext"
    }
   },
   "outputs": [],
   "source": [
    "# go to google fonts\n",
    "\n",
    "# update the code in about.jsx\n",
    "\n",
    "About.jsx\n",
    "App.css\n",
    "\n",
    "\n",
    "Footer.jsx\n",
    "App.css"
   ]
  }
 ],
 "metadata": {
  "language_info": {
   "name": "python"
  }
 },
 "nbformat": 4,
 "nbformat_minor": 2
}
