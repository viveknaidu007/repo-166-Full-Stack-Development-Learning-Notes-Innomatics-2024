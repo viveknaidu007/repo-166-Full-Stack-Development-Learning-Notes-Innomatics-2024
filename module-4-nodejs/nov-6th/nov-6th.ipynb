{
 "cells": [
  {
   "cell_type": "markdown",
   "metadata": {},
   "source": [
    "\n",
    "# Complete Blog Application and JWT authentication\n"
   ]
  },
  {
   "cell_type": "code",
   "execution_count": null,
   "metadata": {
    "vscode": {
     "languageId": "plaintext"
    }
   },
   "outputs": [],
   "source": [
    "# continues of nov4th , nov5th for JWT "
   ]
  },
  {
   "cell_type": "markdown",
   "metadata": {},
   "source": [
    "# documentation:\n",
    "\n",
    "https://jwt.io/\n",
    "\n",
    "https://jwt.io/introduction"
   ]
  },
  {
   "cell_type": "markdown",
   "metadata": {
    "vscode": {
     "languageId": "plaintext"
    }
   },
   "source": [
    "# middleware:\n",
    "\n"
   ]
  },
  {
   "cell_type": "code",
   "execution_count": null,
   "metadata": {
    "vscode": {
     "languageId": "plaintext"
    }
   },
   "outputs": [],
   "source": [
    "it will validate the user according to their authorization"
   ]
  },
  {
   "cell_type": "code",
   "execution_count": null,
   "metadata": {
    "vscode": {
     "languageId": "plaintext"
    }
   },
   "outputs": [],
   "source": [
    "npm init -y"
   ]
  },
  {
   "cell_type": "code",
   "execution_count": null,
   "metadata": {
    "vscode": {
     "languageId": "plaintext"
    }
   },
   "outputs": [],
   "source": [
    "# create folders \n",
    "middleware\n",
    "routes\n",
    "\n",
    "#create file\n",
    "app.js\n",
    ".env"
   ]
  },
  {
   "cell_type": "code",
   "execution_count": null,
   "metadata": {
    "vscode": {
     "languageId": "plaintext"
    }
   },
   "outputs": [],
   "source": [
    "npm i express jsonwebtoken dotenv body-parser"
   ]
  },
  {
   "cell_type": "code",
   "execution_count": null,
   "metadata": {
    "vscode": {
     "languageId": "plaintext"
    }
   },
   "outputs": [],
   "source": [
    "/middleware => authMiddleware.js\n",
    "/routes => mainRoutes.js"
   ]
  },
  {
   "cell_type": "code",
   "execution_count": null,
   "metadata": {
    "vscode": {
     "languageId": "plaintext"
    }
   },
   "outputs": [],
   "source": [
    "/middleware => authMiddleware.js\n",
    "\n",
    "const jwt=require('jsonwebtoken')\n",
    "\n",
    "const authMiddleware=(req,res,next)=>{\n",
    "    const token=req.headers['authorization'].split(' ')[1];\n",
    "    if(!token) return res.status(403).json({message:'Token is required'})\n",
    "\n",
    "    jwt.verify(token,process.env.JWT_SECRET,(err,user)=>{\n",
    "        if(err) return res.status(401).json({message:'Invalid Token'})\n",
    "            req.user=user;\n",
    "            next()\n",
    "    })\n",
    "\n",
    "}\n",
    "module.exports=authMiddleware"
   ]
  },
  {
   "cell_type": "code",
   "execution_count": null,
   "metadata": {
    "vscode": {
     "languageId": "plaintext"
    }
   },
   "outputs": [],
   "source": [
    "/routes => mainRoutes.js\n",
    "\n",
    "\n",
    "const express=require('express')\n",
    "const jwt=require('jsonwebtoken')\n",
    "const authMiddleware=require('../middleware/authMiddleware')\n",
    "const router=express.Router()\n",
    "\n",
    "//Mock Data\n",
    "const user={id:1,username:'testuser',password:'password123'}\n",
    "\n",
    "router.post('/login',(req,res)=>{\n",
    "    const{username,password}=req.body;\n",
    "    if(username===user.username && password===user.password){\n",
    "        const token=jwt.sign({id:user.id,username:user.username},process.env.JWT_SECRET,{expiresIn:process.env.JWT_EXPIRATION,})\n",
    "        res.json({message:'Login successful',token})\n",
    "    }else{\n",
    "        res.status(401).json({message:'Invalid credential'})\n",
    "    }\n",
    "})\n",
    "//protected route\n",
    "router.get('/dashboard',authMiddleware,(req,res)=>{\n",
    "    res.json({message:`Welcome to dashboard, ${req.user.username}!`})\n",
    "})\n",
    "module.exports=router"
   ]
  }
 ],
 "metadata": {
  "language_info": {
   "name": "python"
  }
 },
 "nbformat": 4,
 "nbformat_minor": 2
}
