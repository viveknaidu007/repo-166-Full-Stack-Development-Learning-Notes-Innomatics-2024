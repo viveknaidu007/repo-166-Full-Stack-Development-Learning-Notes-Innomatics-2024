{
 "cells": [
  {
   "cell_type": "markdown",
   "metadata": {},
   "source": [
    "# NodeJs-Building HTTP request and File handling"
   ]
  },
  {
   "cell_type": "code",
   "execution_count": null,
   "metadata": {
    "vscode": {
     "languageId": "plaintext"
    }
   },
   "outputs": [],
   "source": [
    "* open source env ; it is free\n",
    "* it can run in various platforms\n",
    "* it uses javascript on server side\n",
    "* it is used to build backend services like API , webapps and mobiel apps\n",
    "* it is often describe as singlethreaded\n",
    "* nodejs uses internally V8 Engine (google primarly used in chrome browser)\n",
    "* nodejs uses V8 Engine to handle server side code\n",
    "* npm: package manager for Nodejs packages\n",
    "\n",
    "Key use:\n",
    "* Rest API\n",
    "* perfect for apps need some line update like what apps\n",
    "\n",
    "#documentatin : https://nodejs.org/en\n",
    "\n",
    "\n",
    "HTTP request : file handling : Read , write , update , Delete , Rename files\n",
    "\n",
    "\n",
    "\n",
    "\n"
   ]
  },
  {
   "cell_type": "code",
   "execution_count": null,
   "metadata": {
    "vscode": {
     "languageId": "plaintext"
    }
   },
   "outputs": [],
   "source": [
    "Synchronos , Asynchronos \n",
    "\n",
    "Synchoronos = excute the code line by line\n",
    "Asynchoronous = next line of code immediately\n",
    "\n"
   ]
  },
  {
   "cell_type": "code",
   "execution_count": null,
   "metadata": {
    "vscode": {
     "languageId": "plaintext"
    }
   },
   "outputs": [],
   "source": [
    "# it will create package.json:\n",
    "npm init -y \n",
    "\n",
    "# create fodler server.js "
   ]
  },
  {
   "cell_type": "code",
   "execution_count": null,
   "metadata": {
    "vscode": {
     "languageId": "plaintext"
    }
   },
   "outputs": [],
   "source": [
    "# in package.js :\n",
    "# add this :\"start\" : \"node server.js\"\n",
    "\n",
    "\n",
    "example :\n",
    "\n",
    "{\n",
    "  \"name\": \"module-4-nodejs\",\n",
    "  \"version\": \"1.0.0\",\n",
    "  \"main\": \"index.js\",\n",
    "  \"scripts\": {\n",
    "    \"test\": \"echo \\\"Error: no test specified\\\" && exit 1\",\n",
    "    \"start\" : \"node server.js\"\n",
    "  },\n",
    "  \"keywords\": [],\n",
    "  \"author\": \"\",\n",
    "  \"license\": \"ISC\",\n",
    "  \"description\": \"\"\n",
    "}\n"
   ]
  },
  {
   "cell_type": "code",
   "execution_count": null,
   "metadata": {
    "vscode": {
     "languageId": "plaintext"
    }
   },
   "outputs": [],
   "source": [
    "# now after wrting the code:\n",
    "async.js\n",
    "server.js\n",
    "\n"
   ]
  },
  {
   "cell_type": "code",
   "execution_count": null,
   "metadata": {
    "vscode": {
     "languageId": "plaintext"
    }
   },
   "outputs": [],
   "source": [
    "#then in terminal: then asyncWrite.txt\n",
    "\n",
    "node async.js\n",
    "\n",
    "Async write completed\n",
    "Async read: this is written asynchronously\n",
    "Async append completed\n",
    "\n",
    "\n"
   ]
  },
  {
   "cell_type": "code",
   "execution_count": null,
   "metadata": {
    "vscode": {
     "languageId": "plaintext"
    }
   },
   "outputs": [],
   "source": [
    "1. const http = require('http)\n",
    "2. const server = http.creaeteServer(creq, req) =>{\n",
    "    res.writeead(200,'content-type: 'tent/html)\n",
    "}"
   ]
  },
  {
   "cell_type": "markdown",
   "metadata": {},
   "source": [
    "# other example"
   ]
  },
  {
   "cell_type": "code",
   "execution_count": null,
   "metadata": {
    "vscode": {
     "languageId": "plaintext"
    }
   },
   "outputs": [],
   "source": [
    "// now other example:\n",
    "\n",
    "now add this in package.json:\n",
    "\"start\" : \"node httpreq.js\"\n",
    "\n",
    "\n",
    "#package.json be like:\n",
    "{\n",
    "  \"name\": \"module-4-nodejs\",\n",
    "  \"version\": \"1.0.0\",\n",
    "  \"main\": \"index.js\",\n",
    "  \"scripts\": {\n",
    "    \"test\": \"echo \\\"Error: no test specified\\\" && exit 1\",\n",
    "    \"start\" : \"node httpreq.js\"\n",
    "  },\n",
    "  \"keywords\": [],\n",
    "  \"author\": \"\",\n",
    "  \"license\": \"ISC\",\n",
    "  \"description\": \"\"\n",
    "}\n"
   ]
  },
  {
   "cell_type": "code",
   "execution_count": null,
   "metadata": {
    "vscode": {
     "languageId": "plaintext"
    }
   },
   "outputs": [],
   "source": [
    "// create this file\n",
    "# httpreq.js:\n",
    "\n",
    "// building Http requests\n",
    "const http=require('http')\n",
    "\n",
    "//create Http server\n",
    "const server=http.createServer((req,res)=>{\n",
    "    //set the response\n",
    "    res.writeHead(200,{'content-Type':'text/html'})\n",
    "\n",
    "\n",
    "    //handle route\n",
    "    if(req.url==='/'){\n",
    "        res.write('<h1>Welcome to Home page...</h1>')\n",
    "    }\n",
    "    else if(req.url==='/about'){\n",
    "        res.write('<h1>About us page...</h1>')\n",
    "    }\n",
    "    else if(req.url==='/contact'){\n",
    "        res.write('<h1>contact us page...</h1>')\n",
    "    }\n",
    "    else{\n",
    "        res.write('<h1>404.Page not found</h1>')\n",
    "    }\n",
    "    //end response\n",
    "    res.end()\n",
    "})\n",
    "server.listen(3000,()=>{\n",
    "    console.log('Server is running at http://localhost:3000')\n",
    "})\n",
    "\n",
    "\n",
    "# now run this :\n",
    "node httpreq.js\n",
    "\n",
    "# we can see content of webpage with routes what we have design "
   ]
  },
  {
   "cell_type": "markdown",
   "metadata": {},
   "source": [
    "# interview Q\n"
   ]
  },
  {
   "cell_type": "code",
   "execution_count": null,
   "metadata": {},
   "outputs": [],
   "source": [
    "# what is nodejs:\n",
    "\n",
    "* open source env ; it is free\n",
    "* it can run in various platforms\n",
    "* it uses javascript on server side\n",
    "* it is used to build backend services like API , webapps and mobiel apps\n",
    "* it is often describe as singlethreaded\n",
    "* nodejs uses internally V8 Engine (google primarly used in chrome browser)\n",
    "* nodejs uses V8 Engine to handle server side code\n",
    "* npm: package manager for Nodejs packages\n"
   ]
  }
 ],
 "metadata": {
  "language_info": {
   "name": "python"
  }
 },
 "nbformat": 4,
 "nbformat_minor": 2
}
